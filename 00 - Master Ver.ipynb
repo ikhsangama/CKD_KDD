{
 "cells": [
  {
   "cell_type": "markdown",
   "metadata": {},
   "source": [
    "# HASIL PENELITIAN\n",
    "> Dengan menggunakan seluruh atribut (24 atribut prediktif),\n",
    "tanpa penanganan outlier (400 data), nilai k terbaik pada kNN = 3, dengan akurasi 99.25%\n",
    "\n",
    "> Dengan menggunakan backward elimination, terpilih 10 atribut: sg, al, bu, sc, sod, hemo, rbc, htn, dm, appet\n",
    "tanpa penanganan outlier (400 data), nilai k terbaik pada kNN = 3, dengan akurasi 99.25%\n",
    "\n",
    "> Dengan 10 atribut yang terpilih, meskipun akurasi tidak menunjukkan peningkatan, namun proses komputasi menjadi lebih cepat"
   ]
  },
  {
   "cell_type": "markdown",
   "metadata": {},
   "source": [
    "# I. PEMAHAMAN DOMAIN DAN TUJUAN"
   ]
  },
  {
   "cell_type": "markdown",
   "metadata": {},
   "source": [
    "## 1.1. Pemahaman Penyakit Ginjal Kronis"
   ]
  },
  {
   "cell_type": "markdown",
   "metadata": {},
   "source": [
    ">Penyakit Ginjal Kronis (PGK) adalah suatu proses patofisiologis dengan etiologi yang beragam, mengakibatkan penurunan fungsi ginjal yang progresif, penurunan fungsi ini bersifat kronis dan irreversible.\n",
    "\n",
    ">Data didapatkan dari UCI Machine Learning Repository. Berisikan 400 data dan memiliki 25 atribut, terdiri dari 1 kelas target dan 24 atribut. "
   ]
  },
  {
   "cell_type": "markdown",
   "metadata": {},
   "source": [
    "## 1.2. Tujuan"
   ]
  },
  {
   "cell_type": "markdown",
   "metadata": {},
   "source": [
    ">Identifikasi PGK dengan atribut yang paling berpengaruh"
   ]
  },
  {
   "cell_type": "markdown",
   "metadata": {},
   "source": [
    "# II. PEMBUATAN DATASET DAN TARGET"
   ]
  },
  {
   "cell_type": "markdown",
   "metadata": {},
   "source": [
    "## 2.1 Data UCI"
   ]
  },
  {
   "cell_type": "markdown",
   "metadata": {},
   "source": [
    "Data didapat dari: https://archive.ics.uci.edu/ml/datasets/chronic_kidney_disease\n",
    "\n",
    "Data tersebut di-import dalam mariaDB"
   ]
  },
  {
   "cell_type": "raw",
   "metadata": {},
   "source": [
    ">Import Library"
   ]
  },
  {
   "cell_type": "code",
   "execution_count": 1,
   "metadata": {
    "collapsed": true
   },
   "outputs": [],
   "source": [
    "import numpy as np\n",
    "import pandas as pd\n",
    "import pymysql as pskl\n",
    "import matplotlib.pyplot as plt\n",
    "\n",
    "# Menampilkan semua array\n",
    "# np.set_printoptions(threshold=np.nan)"
   ]
  },
  {
   "cell_type": "raw",
   "metadata": {},
   "source": [
    ">Memanggil Dataset"
   ]
  },
  {
   "cell_type": "code",
   "execution_count": 2,
   "metadata": {
    "collapsed": true
   },
   "outputs": [],
   "source": [
    "def dataset(retrieve=\"all\", id=1, target=1): #hasil bertipe dataframe\n",
    "    \"\"\"\n",
    "    parameters\n",
    "    ----------\n",
    "    retrieve: (all, numeric, polinom)\n",
    "        all    : semua kolom\n",
    "        numeric: hanya kolom numeric\n",
    "        polinom: hanya kolom polinom\n",
    "    id: (0, 1)\n",
    "        0: tanpa kolom id\n",
    "        1: dengan kolom id\n",
    "    class: (0, 1)\n",
    "        0: tanpa kolom class\n",
    "        1: dengan kolom class\n",
    "    \n",
    "    \"\"\"\n",
    "    connection = pskl.connect(host=\"localhost\", user=\"root\", passwd=\"\", database=\"knn\")\n",
    "    cursor = connection.cursor()\n",
    "    if(retrieve==\"all\"):\n",
    "        cols = [\"id\", \"age\", \"bp\", \"sg\", \"al\", \"su\", \"bgr\", \"bu\", \"sc\", \"sod\", \"pot\", \"hemo\", \"pcv\", \"wbcc\", \"rbcc\", \"rbc\", \"pc\", \"pcc\", \"ba\", \"htn\", \"dm\", \"cad\", \"appet\", \"pe\", \"ane\", \"class\"]\n",
    "        retrieve = \"SELECT id, age, bp, sg, al, su, bgr, bu, sc, sod, pot, hemo, pcv, wbcc, rbcc, rbc, pc, pcc, ba, htn, dm, cad, appet, pe, ane, class FROM ckd_preprocessing3\"\n",
    "    elif(retrieve==\"numeric\"):\n",
    "        cols = [\"id\", \"age\", \"bp\", \"sg\", \"al\", \"su\", \"bgr\", \"bu\", \"sc\", \"sod\", \"pot\", \"hemo\", \"pcv\", \"wbcc\", \"rbcc\", \"class\"]\n",
    "        retrieve = \"SELECT id, age, bp, sg, al, su, bgr, bu, sc, sod, pot, hemo, pcv, wbcc, rbcc, class FROM ckd_preprocessing3\"\n",
    "    elif(retrieve==\"polinom\"):\n",
    "        cols = [\"id\", \"rbc\", \"pc\", \"pcc\", \"ba\", \"htn\", \"dm\", \"cad\", \"appet\", \"pe\", \"ane\", \"class\"]\n",
    "        retrieve = \"SELECT id, rbc, pc, pcc, ba, htn, dm, cad, appet, pe, ane, class FROM ckd_preprocessing3\"\n",
    "    resolveall = cursor.execute(retrieve)\n",
    "    rows_tupple = cursor.fetchall()\n",
    "    data = pd.DataFrame(list(rows_tupple))\n",
    "    data.columns = cols\n",
    "    if(id==0):\n",
    "        data = data.drop([\"id\"], axis=1)\n",
    "    if(target==0):\n",
    "        data = data.drop([\"class\"], axis=1)\n",
    "    data = data.fillna(value=np.nan) #mengubah missing value menjadi NaN\n",
    "    return data"
   ]
  },
  {
   "cell_type": "code",
   "execution_count": 3,
   "metadata": {
    "scrolled": true
   },
   "outputs": [
    {
     "name": "stdout",
     "output_type": "stream",
     "text": [
      "(400, 26)\n"
     ]
    },
    {
     "data": {
      "text/html": [
       "<div>\n",
       "<style>\n",
       "    .dataframe thead tr:only-child th {\n",
       "        text-align: right;\n",
       "    }\n",
       "\n",
       "    .dataframe thead th {\n",
       "        text-align: left;\n",
       "    }\n",
       "\n",
       "    .dataframe tbody tr th {\n",
       "        vertical-align: top;\n",
       "    }\n",
       "</style>\n",
       "<table border=\"1\" class=\"dataframe\">\n",
       "  <thead>\n",
       "    <tr style=\"text-align: right;\">\n",
       "      <th></th>\n",
       "      <th>id</th>\n",
       "      <th>age</th>\n",
       "      <th>bp</th>\n",
       "      <th>sg</th>\n",
       "      <th>al</th>\n",
       "      <th>su</th>\n",
       "      <th>bgr</th>\n",
       "      <th>bu</th>\n",
       "      <th>sc</th>\n",
       "      <th>sod</th>\n",
       "      <th>...</th>\n",
       "      <th>pc</th>\n",
       "      <th>pcc</th>\n",
       "      <th>ba</th>\n",
       "      <th>htn</th>\n",
       "      <th>dm</th>\n",
       "      <th>cad</th>\n",
       "      <th>appet</th>\n",
       "      <th>pe</th>\n",
       "      <th>ane</th>\n",
       "      <th>class</th>\n",
       "    </tr>\n",
       "  </thead>\n",
       "  <tbody>\n",
       "    <tr>\n",
       "      <th>0</th>\n",
       "      <td>1</td>\n",
       "      <td>48.0</td>\n",
       "      <td>80.0</td>\n",
       "      <td>1.020</td>\n",
       "      <td>1.0</td>\n",
       "      <td>0.0</td>\n",
       "      <td>121.0</td>\n",
       "      <td>36.0</td>\n",
       "      <td>1.2</td>\n",
       "      <td>NaN</td>\n",
       "      <td>...</td>\n",
       "      <td>normal</td>\n",
       "      <td>notpresent</td>\n",
       "      <td>notpresent</td>\n",
       "      <td>yes</td>\n",
       "      <td>yes</td>\n",
       "      <td>no</td>\n",
       "      <td>good</td>\n",
       "      <td>no</td>\n",
       "      <td>no</td>\n",
       "      <td>ckd</td>\n",
       "    </tr>\n",
       "    <tr>\n",
       "      <th>1</th>\n",
       "      <td>2</td>\n",
       "      <td>7.0</td>\n",
       "      <td>50.0</td>\n",
       "      <td>1.020</td>\n",
       "      <td>4.0</td>\n",
       "      <td>0.0</td>\n",
       "      <td>NaN</td>\n",
       "      <td>18.0</td>\n",
       "      <td>0.8</td>\n",
       "      <td>NaN</td>\n",
       "      <td>...</td>\n",
       "      <td>normal</td>\n",
       "      <td>notpresent</td>\n",
       "      <td>notpresent</td>\n",
       "      <td>no</td>\n",
       "      <td>no</td>\n",
       "      <td>no</td>\n",
       "      <td>good</td>\n",
       "      <td>no</td>\n",
       "      <td>no</td>\n",
       "      <td>ckd</td>\n",
       "    </tr>\n",
       "    <tr>\n",
       "      <th>2</th>\n",
       "      <td>3</td>\n",
       "      <td>62.0</td>\n",
       "      <td>80.0</td>\n",
       "      <td>1.010</td>\n",
       "      <td>2.0</td>\n",
       "      <td>3.0</td>\n",
       "      <td>423.0</td>\n",
       "      <td>53.0</td>\n",
       "      <td>1.8</td>\n",
       "      <td>NaN</td>\n",
       "      <td>...</td>\n",
       "      <td>normal</td>\n",
       "      <td>notpresent</td>\n",
       "      <td>notpresent</td>\n",
       "      <td>no</td>\n",
       "      <td>yes</td>\n",
       "      <td>no</td>\n",
       "      <td>poor</td>\n",
       "      <td>no</td>\n",
       "      <td>yes</td>\n",
       "      <td>ckd</td>\n",
       "    </tr>\n",
       "    <tr>\n",
       "      <th>3</th>\n",
       "      <td>4</td>\n",
       "      <td>48.0</td>\n",
       "      <td>70.0</td>\n",
       "      <td>1.005</td>\n",
       "      <td>4.0</td>\n",
       "      <td>0.0</td>\n",
       "      <td>117.0</td>\n",
       "      <td>56.0</td>\n",
       "      <td>3.8</td>\n",
       "      <td>111.0</td>\n",
       "      <td>...</td>\n",
       "      <td>abnormal</td>\n",
       "      <td>present</td>\n",
       "      <td>notpresent</td>\n",
       "      <td>yes</td>\n",
       "      <td>no</td>\n",
       "      <td>no</td>\n",
       "      <td>poor</td>\n",
       "      <td>yes</td>\n",
       "      <td>yes</td>\n",
       "      <td>ckd</td>\n",
       "    </tr>\n",
       "    <tr>\n",
       "      <th>4</th>\n",
       "      <td>5</td>\n",
       "      <td>51.0</td>\n",
       "      <td>80.0</td>\n",
       "      <td>1.010</td>\n",
       "      <td>2.0</td>\n",
       "      <td>0.0</td>\n",
       "      <td>106.0</td>\n",
       "      <td>26.0</td>\n",
       "      <td>1.4</td>\n",
       "      <td>NaN</td>\n",
       "      <td>...</td>\n",
       "      <td>normal</td>\n",
       "      <td>notpresent</td>\n",
       "      <td>notpresent</td>\n",
       "      <td>no</td>\n",
       "      <td>no</td>\n",
       "      <td>no</td>\n",
       "      <td>good</td>\n",
       "      <td>no</td>\n",
       "      <td>no</td>\n",
       "      <td>ckd</td>\n",
       "    </tr>\n",
       "  </tbody>\n",
       "</table>\n",
       "<p>5 rows × 26 columns</p>\n",
       "</div>"
      ],
      "text/plain": [
       "   id   age    bp     sg   al   su    bgr    bu   sc    sod  ...         pc  \\\n",
       "0   1  48.0  80.0  1.020  1.0  0.0  121.0  36.0  1.2    NaN  ...     normal   \n",
       "1   2   7.0  50.0  1.020  4.0  0.0    NaN  18.0  0.8    NaN  ...     normal   \n",
       "2   3  62.0  80.0  1.010  2.0  3.0  423.0  53.0  1.8    NaN  ...     normal   \n",
       "3   4  48.0  70.0  1.005  4.0  0.0  117.0  56.0  3.8  111.0  ...   abnormal   \n",
       "4   5  51.0  80.0  1.010  2.0  0.0  106.0  26.0  1.4    NaN  ...     normal   \n",
       "\n",
       "          pcc          ba  htn   dm cad appet   pe  ane class  \n",
       "0  notpresent  notpresent  yes  yes  no  good   no   no   ckd  \n",
       "1  notpresent  notpresent   no   no  no  good   no   no   ckd  \n",
       "2  notpresent  notpresent   no  yes  no  poor   no  yes   ckd  \n",
       "3     present  notpresent  yes   no  no  poor  yes  yes   ckd  \n",
       "4  notpresent  notpresent   no   no  no  good   no   no   ckd  \n",
       "\n",
       "[5 rows x 26 columns]"
      ]
     },
     "execution_count": 3,
     "metadata": {},
     "output_type": "execute_result"
    }
   ],
   "source": [
    "dataset_df = dataset()\n",
    "print(dataset_df.shape)\n",
    "dataset_df.head()"
   ]
  },
  {
   "cell_type": "markdown",
   "metadata": {},
   "source": [
    "## 2.2. Menentukan Atribut Target"
   ]
  },
  {
   "cell_type": "markdown",
   "metadata": {},
   "source": [
    ">Atribut \"class\" sebagai target dataset"
   ]
  },
  {
   "cell_type": "markdown",
   "metadata": {},
   "source": [
    "outputnya target"
   ]
  },
  {
   "cell_type": "markdown",
   "metadata": {},
   "source": [
    "# III. DATA CLEANING DAN PREPROCESSING"
   ]
  },
  {
   "cell_type": "markdown",
   "metadata": {},
   "source": [
    "## 3.1 Menghilangkan Outliers"
   ]
  },
  {
   "cell_type": "markdown",
   "metadata": {},
   "source": [
    ">referensi: http://digilib.unila.ac.id/20585/4/II.%20TINJAUAN%20PUSTAKA.pdf"
   ]
  },
  {
   "cell_type": "raw",
   "metadata": {},
   "source": [
    ">Mendapatkan data outliers"
   ]
  },
  {
   "cell_type": "raw",
   "metadata": {
    "collapsed": true
   },
   "source": [
    "def outliers(df, k1=0.25, k3=0.75, multiply=1.5):\n",
    "    \"\"\"\n",
    "    parameters:\n",
    "    -----------\n",
    "    df: input tipe dataframe, hanya menerima numeric\n",
    "    \n",
    "    mendeteksi data yang diluar batas bawah dan batas atas\n",
    "    batas bawah = k1 - (k3-k1)*1.5\n",
    "    batas atas = k3 + (k3-k1)*1.5\n",
    "    \"\"\"\n",
    "    pencilan = df.apply(lambda x: (x < df[x.name].quantile(k1)-((df[x.name].quantile(k3)-df[x.name].quantile(k1))*1.5))|(x > df[x.name].quantile(k3)+((df[x.name].quantile(k3)-df[x.name].quantile(k1))*1.5)), axis=0)\n",
    "    return pencilan"
   ]
  },
  {
   "cell_type": "raw",
   "metadata": {
    "scrolled": false
   },
   "source": [
    "pencilan = outliers(numeric_df)\n",
    "pencilan.head()"
   ]
  },
  {
   "cell_type": "raw",
   "metadata": {},
   "source": [
    ">Menghilangkan outliers"
   ]
  },
  {
   "cell_type": "raw",
   "metadata": {
    "collapsed": true
   },
   "source": [
    "def outliers_removing(df, pencilan):\n",
    "    \"\"\"\n",
    "    paramters:\n",
    "    ----------\n",
    "    df: input tipe dataframe\n",
    "    pencilan: input tipe dataframe, bertipe boolean\n",
    "    \n",
    "    output:\n",
    "    -------\n",
    "    mengembalikan dataframe yang sudah menghilangkan semua outliers (semua baris yang berisi nilai pencilan true)\n",
    "    \"\"\"\n",
    "    filtered_df = df[~(pencilan).any(axis=1)]\n",
    "    return filtered_df"
   ]
  },
  {
   "cell_type": "raw",
   "metadata": {
    "scrolled": true
   },
   "source": [
    "df = dataset(retrieve=\"all\", id=1, target=1)\n",
    "\n",
    "filtered_df = outliers_removing(df, pencilan)\n",
    "filtered_df.head()"
   ]
  },
  {
   "cell_type": "raw",
   "metadata": {},
   "source": [
    "filtered_df.shape"
   ]
  },
  {
   "cell_type": "markdown",
   "metadata": {},
   "source": [
    "# IV. TRANSFORMASI DATA"
   ]
  },
  {
   "cell_type": "markdown",
   "metadata": {
    "collapsed": true
   },
   "source": [
    "## 4.1 Data Nominal Menjadi Numeric"
   ]
  },
  {
   "cell_type": "markdown",
   "metadata": {},
   "source": [
    ">Mengubah atribut / kolom polinom menjadi numerik\n",
    "\n",
    ">Dikarenakan semua kolom nominal hanya memiliki 2 kelas (binary), hasil transformasi menjadi 0 dan 1"
   ]
  },
  {
   "cell_type": "raw",
   "metadata": {},
   "source": [
    ">Transformasi Data"
   ]
  },
  {
   "cell_type": "code",
   "execution_count": 4,
   "metadata": {
    "collapsed": true,
    "scrolled": true
   },
   "outputs": [],
   "source": [
    "def encoding(df, column=\"all_nominal\"):\n",
    "    \"\"\"\n",
    "    paramters:\n",
    "    ----------\n",
    "    df: input tipe dataframe\n",
    "    column: input tipe string, menentukan kolom nominal mana yang akan di transformasi menjadi numerik\n",
    "    \n",
    "    output:\n",
    "    ----------\n",
    "    mengembalikan dataframe dengan kolom tertentu yang sudah di encode selain \"NaN\"\n",
    "    \n",
    "    \"\"\"\n",
    "    #python melakukan pass by reference, sehingga dibuat copy agar df sebelumnya tidak berubah\n",
    "    \n",
    "    copy_df = df.copy()\n",
    "    if(column!=\"all_nominal\"):\n",
    "        a = copy_df[column].unique().tolist()\n",
    "        c = [x for x in a if str(x) != 'nan']\n",
    "        l=[]\n",
    "        i=0\n",
    "        for x in c:\n",
    "            l.append(i)\n",
    "            i+=1\n",
    "        copy_df[column] = copy_df[column].replace(c, l)\n",
    "    \n",
    "    elif(column==\"all_nominal\"):\n",
    "        all_nominal = [\"rbc\", \"pc\", \"pcc\", \"ba\", \"htn\", \"dm\", \"cad\", \"appet\", \"pe\", \"ane\",\"class\"]\n",
    "        for col in all_nominal:\n",
    "            copy_df = encoding(copy_df, col) #rekursif\n",
    "            \n",
    "    return copy_df"
   ]
  },
  {
   "cell_type": "code",
   "execution_count": 5,
   "metadata": {
    "scrolled": true
   },
   "outputs": [
    {
     "name": "stdout",
     "output_type": "stream",
     "text": [
      "(400, 26)\n"
     ]
    },
    {
     "data": {
      "text/html": [
       "<div>\n",
       "<style>\n",
       "    .dataframe thead tr:only-child th {\n",
       "        text-align: right;\n",
       "    }\n",
       "\n",
       "    .dataframe thead th {\n",
       "        text-align: left;\n",
       "    }\n",
       "\n",
       "    .dataframe tbody tr th {\n",
       "        vertical-align: top;\n",
       "    }\n",
       "</style>\n",
       "<table border=\"1\" class=\"dataframe\">\n",
       "  <thead>\n",
       "    <tr style=\"text-align: right;\">\n",
       "      <th></th>\n",
       "      <th>id</th>\n",
       "      <th>age</th>\n",
       "      <th>bp</th>\n",
       "      <th>sg</th>\n",
       "      <th>al</th>\n",
       "      <th>su</th>\n",
       "      <th>bgr</th>\n",
       "      <th>bu</th>\n",
       "      <th>sc</th>\n",
       "      <th>sod</th>\n",
       "      <th>...</th>\n",
       "      <th>pc</th>\n",
       "      <th>pcc</th>\n",
       "      <th>ba</th>\n",
       "      <th>htn</th>\n",
       "      <th>dm</th>\n",
       "      <th>cad</th>\n",
       "      <th>appet</th>\n",
       "      <th>pe</th>\n",
       "      <th>ane</th>\n",
       "      <th>class</th>\n",
       "    </tr>\n",
       "  </thead>\n",
       "  <tbody>\n",
       "    <tr>\n",
       "      <th>0</th>\n",
       "      <td>1</td>\n",
       "      <td>48.0</td>\n",
       "      <td>80.0</td>\n",
       "      <td>1.020</td>\n",
       "      <td>1.0</td>\n",
       "      <td>0.0</td>\n",
       "      <td>121.0</td>\n",
       "      <td>36.0</td>\n",
       "      <td>1.2</td>\n",
       "      <td>NaN</td>\n",
       "      <td>...</td>\n",
       "      <td>0.0</td>\n",
       "      <td>0.0</td>\n",
       "      <td>0.0</td>\n",
       "      <td>0.0</td>\n",
       "      <td>0.0</td>\n",
       "      <td>0.0</td>\n",
       "      <td>0.0</td>\n",
       "      <td>0.0</td>\n",
       "      <td>0.0</td>\n",
       "      <td>0</td>\n",
       "    </tr>\n",
       "    <tr>\n",
       "      <th>1</th>\n",
       "      <td>2</td>\n",
       "      <td>7.0</td>\n",
       "      <td>50.0</td>\n",
       "      <td>1.020</td>\n",
       "      <td>4.0</td>\n",
       "      <td>0.0</td>\n",
       "      <td>NaN</td>\n",
       "      <td>18.0</td>\n",
       "      <td>0.8</td>\n",
       "      <td>NaN</td>\n",
       "      <td>...</td>\n",
       "      <td>0.0</td>\n",
       "      <td>0.0</td>\n",
       "      <td>0.0</td>\n",
       "      <td>1.0</td>\n",
       "      <td>1.0</td>\n",
       "      <td>0.0</td>\n",
       "      <td>0.0</td>\n",
       "      <td>0.0</td>\n",
       "      <td>0.0</td>\n",
       "      <td>0</td>\n",
       "    </tr>\n",
       "    <tr>\n",
       "      <th>2</th>\n",
       "      <td>3</td>\n",
       "      <td>62.0</td>\n",
       "      <td>80.0</td>\n",
       "      <td>1.010</td>\n",
       "      <td>2.0</td>\n",
       "      <td>3.0</td>\n",
       "      <td>423.0</td>\n",
       "      <td>53.0</td>\n",
       "      <td>1.8</td>\n",
       "      <td>NaN</td>\n",
       "      <td>...</td>\n",
       "      <td>0.0</td>\n",
       "      <td>0.0</td>\n",
       "      <td>0.0</td>\n",
       "      <td>1.0</td>\n",
       "      <td>0.0</td>\n",
       "      <td>0.0</td>\n",
       "      <td>1.0</td>\n",
       "      <td>0.0</td>\n",
       "      <td>1.0</td>\n",
       "      <td>0</td>\n",
       "    </tr>\n",
       "    <tr>\n",
       "      <th>3</th>\n",
       "      <td>4</td>\n",
       "      <td>48.0</td>\n",
       "      <td>70.0</td>\n",
       "      <td>1.005</td>\n",
       "      <td>4.0</td>\n",
       "      <td>0.0</td>\n",
       "      <td>117.0</td>\n",
       "      <td>56.0</td>\n",
       "      <td>3.8</td>\n",
       "      <td>111.0</td>\n",
       "      <td>...</td>\n",
       "      <td>1.0</td>\n",
       "      <td>1.0</td>\n",
       "      <td>0.0</td>\n",
       "      <td>0.0</td>\n",
       "      <td>1.0</td>\n",
       "      <td>0.0</td>\n",
       "      <td>1.0</td>\n",
       "      <td>1.0</td>\n",
       "      <td>1.0</td>\n",
       "      <td>0</td>\n",
       "    </tr>\n",
       "    <tr>\n",
       "      <th>4</th>\n",
       "      <td>5</td>\n",
       "      <td>51.0</td>\n",
       "      <td>80.0</td>\n",
       "      <td>1.010</td>\n",
       "      <td>2.0</td>\n",
       "      <td>0.0</td>\n",
       "      <td>106.0</td>\n",
       "      <td>26.0</td>\n",
       "      <td>1.4</td>\n",
       "      <td>NaN</td>\n",
       "      <td>...</td>\n",
       "      <td>0.0</td>\n",
       "      <td>0.0</td>\n",
       "      <td>0.0</td>\n",
       "      <td>1.0</td>\n",
       "      <td>1.0</td>\n",
       "      <td>0.0</td>\n",
       "      <td>0.0</td>\n",
       "      <td>0.0</td>\n",
       "      <td>0.0</td>\n",
       "      <td>0</td>\n",
       "    </tr>\n",
       "  </tbody>\n",
       "</table>\n",
       "<p>5 rows × 26 columns</p>\n",
       "</div>"
      ],
      "text/plain": [
       "   id   age    bp     sg   al   su    bgr    bu   sc    sod  ...     pc  pcc  \\\n",
       "0   1  48.0  80.0  1.020  1.0  0.0  121.0  36.0  1.2    NaN  ...    0.0  0.0   \n",
       "1   2   7.0  50.0  1.020  4.0  0.0    NaN  18.0  0.8    NaN  ...    0.0  0.0   \n",
       "2   3  62.0  80.0  1.010  2.0  3.0  423.0  53.0  1.8    NaN  ...    0.0  0.0   \n",
       "3   4  48.0  70.0  1.005  4.0  0.0  117.0  56.0  3.8  111.0  ...    1.0  1.0   \n",
       "4   5  51.0  80.0  1.010  2.0  0.0  106.0  26.0  1.4    NaN  ...    0.0  0.0   \n",
       "\n",
       "    ba  htn   dm  cad  appet   pe  ane  class  \n",
       "0  0.0  0.0  0.0  0.0    0.0  0.0  0.0      0  \n",
       "1  0.0  1.0  1.0  0.0    0.0  0.0  0.0      0  \n",
       "2  0.0  1.0  0.0  0.0    1.0  0.0  1.0      0  \n",
       "3  0.0  0.0  1.0  0.0    1.0  1.0  1.0      0  \n",
       "4  0.0  1.0  1.0  0.0    0.0  0.0  0.0      0  \n",
       "\n",
       "[5 rows x 26 columns]"
      ]
     },
     "execution_count": 5,
     "metadata": {},
     "output_type": "execute_result"
    }
   ],
   "source": [
    "encoded_df = encoding(dataset_df)\n",
    "print(encoded_df.shape)\n",
    "encoded_df.head()"
   ]
  },
  {
   "cell_type": "markdown",
   "metadata": {},
   "source": [
    "## 4.2 Penanganan Data yang Hilang"
   ]
  },
  {
   "cell_type": "markdown",
   "metadata": {},
   "source": [
    "Mengubah NaN menjadi strategi tertentu, dalam hal ini diubah menjadi rata - rata dari setiap kolom"
   ]
  },
  {
   "cell_type": "raw",
   "metadata": {},
   "source": [
    ">Import Library"
   ]
  },
  {
   "cell_type": "code",
   "execution_count": 6,
   "metadata": {
    "collapsed": true
   },
   "outputs": [],
   "source": [
    "from sklearn.preprocessing import Imputer"
   ]
  },
  {
   "cell_type": "code",
   "execution_count": 7,
   "metadata": {
    "collapsed": true
   },
   "outputs": [],
   "source": [
    "def missing_handling(df, column=\"all\", method=\"mean\"):\n",
    "    \"\"\"\n",
    "    paramters:\n",
    "    ----------\n",
    "    df: input tipe dataframe\n",
    "    column: menentukan kolom numerik mana yang akan dilakukan penanganan missing value\n",
    "    method: strategi penanganan missing value\n",
    "    \n",
    "    output:\n",
    "    ----------\n",
    "    mengembalikan dataframe dengan kolom yang sudah dilakukan penanganan NaN\n",
    "    \"\"\"\n",
    "    \n",
    "    copy_df = df\n",
    "    imputer = Imputer(missing_values=\"NaN\", strategy=method, axis = 0)    \n",
    "    \n",
    "    if(column!=\"all\"):\n",
    "        imputer = imputer.fit(copy_df[[column]])\n",
    "        filledmissing_df = imputer.transform(copy_df[[column]])\n",
    "        df_change = filledmissing_df.ravel()    \n",
    "        copy_df[column] = df_change\n",
    "        \n",
    "    elif(column==\"all\"):\n",
    "        all_col = [\"age\", \"bp\", \"sg\", \"al\", \"su\", \"bgr\", \"bu\", \"sc\", \"sod\", \"pot\", \"hemo\", \"pcv\", \"wbcc\", \"rbcc\", \"rbc\", \"pc\", \"pcc\", \"ba\", \"htn\", \"dm\", \"cad\", \"appet\", \"pe\", \"ane\", \"class\"]\n",
    "        for col in all_col:\n",
    "            copy_df = missing_handling(copy_df, col, method) #rekursif\n",
    "    return copy_df"
   ]
  },
  {
   "cell_type": "code",
   "execution_count": 8,
   "metadata": {},
   "outputs": [
    {
     "name": "stdout",
     "output_type": "stream",
     "text": [
      "(400, 26)\n"
     ]
    },
    {
     "data": {
      "text/html": [
       "<div>\n",
       "<style>\n",
       "    .dataframe thead tr:only-child th {\n",
       "        text-align: right;\n",
       "    }\n",
       "\n",
       "    .dataframe thead th {\n",
       "        text-align: left;\n",
       "    }\n",
       "\n",
       "    .dataframe tbody tr th {\n",
       "        vertical-align: top;\n",
       "    }\n",
       "</style>\n",
       "<table border=\"1\" class=\"dataframe\">\n",
       "  <thead>\n",
       "    <tr style=\"text-align: right;\">\n",
       "      <th></th>\n",
       "      <th>id</th>\n",
       "      <th>age</th>\n",
       "      <th>bp</th>\n",
       "      <th>sg</th>\n",
       "      <th>al</th>\n",
       "      <th>su</th>\n",
       "      <th>bgr</th>\n",
       "      <th>bu</th>\n",
       "      <th>sc</th>\n",
       "      <th>sod</th>\n",
       "      <th>...</th>\n",
       "      <th>pc</th>\n",
       "      <th>pcc</th>\n",
       "      <th>ba</th>\n",
       "      <th>htn</th>\n",
       "      <th>dm</th>\n",
       "      <th>cad</th>\n",
       "      <th>appet</th>\n",
       "      <th>pe</th>\n",
       "      <th>ane</th>\n",
       "      <th>class</th>\n",
       "    </tr>\n",
       "  </thead>\n",
       "  <tbody>\n",
       "    <tr>\n",
       "      <th>0</th>\n",
       "      <td>1</td>\n",
       "      <td>48.0</td>\n",
       "      <td>80.0</td>\n",
       "      <td>1.020</td>\n",
       "      <td>1.0</td>\n",
       "      <td>0.0</td>\n",
       "      <td>121.000000</td>\n",
       "      <td>36.0</td>\n",
       "      <td>1.2</td>\n",
       "      <td>137.528754</td>\n",
       "      <td>...</td>\n",
       "      <td>0.0</td>\n",
       "      <td>0.0</td>\n",
       "      <td>0.0</td>\n",
       "      <td>0.0</td>\n",
       "      <td>0.0</td>\n",
       "      <td>0.0</td>\n",
       "      <td>0.0</td>\n",
       "      <td>0.0</td>\n",
       "      <td>0.0</td>\n",
       "      <td>0.0</td>\n",
       "    </tr>\n",
       "    <tr>\n",
       "      <th>1</th>\n",
       "      <td>2</td>\n",
       "      <td>7.0</td>\n",
       "      <td>50.0</td>\n",
       "      <td>1.020</td>\n",
       "      <td>4.0</td>\n",
       "      <td>0.0</td>\n",
       "      <td>148.036517</td>\n",
       "      <td>18.0</td>\n",
       "      <td>0.8</td>\n",
       "      <td>137.528754</td>\n",
       "      <td>...</td>\n",
       "      <td>0.0</td>\n",
       "      <td>0.0</td>\n",
       "      <td>0.0</td>\n",
       "      <td>1.0</td>\n",
       "      <td>1.0</td>\n",
       "      <td>0.0</td>\n",
       "      <td>0.0</td>\n",
       "      <td>0.0</td>\n",
       "      <td>0.0</td>\n",
       "      <td>0.0</td>\n",
       "    </tr>\n",
       "    <tr>\n",
       "      <th>2</th>\n",
       "      <td>3</td>\n",
       "      <td>62.0</td>\n",
       "      <td>80.0</td>\n",
       "      <td>1.010</td>\n",
       "      <td>2.0</td>\n",
       "      <td>3.0</td>\n",
       "      <td>423.000000</td>\n",
       "      <td>53.0</td>\n",
       "      <td>1.8</td>\n",
       "      <td>137.528754</td>\n",
       "      <td>...</td>\n",
       "      <td>0.0</td>\n",
       "      <td>0.0</td>\n",
       "      <td>0.0</td>\n",
       "      <td>1.0</td>\n",
       "      <td>0.0</td>\n",
       "      <td>0.0</td>\n",
       "      <td>1.0</td>\n",
       "      <td>0.0</td>\n",
       "      <td>1.0</td>\n",
       "      <td>0.0</td>\n",
       "    </tr>\n",
       "    <tr>\n",
       "      <th>3</th>\n",
       "      <td>4</td>\n",
       "      <td>48.0</td>\n",
       "      <td>70.0</td>\n",
       "      <td>1.005</td>\n",
       "      <td>4.0</td>\n",
       "      <td>0.0</td>\n",
       "      <td>117.000000</td>\n",
       "      <td>56.0</td>\n",
       "      <td>3.8</td>\n",
       "      <td>111.000000</td>\n",
       "      <td>...</td>\n",
       "      <td>1.0</td>\n",
       "      <td>1.0</td>\n",
       "      <td>0.0</td>\n",
       "      <td>0.0</td>\n",
       "      <td>1.0</td>\n",
       "      <td>0.0</td>\n",
       "      <td>1.0</td>\n",
       "      <td>1.0</td>\n",
       "      <td>1.0</td>\n",
       "      <td>0.0</td>\n",
       "    </tr>\n",
       "    <tr>\n",
       "      <th>4</th>\n",
       "      <td>5</td>\n",
       "      <td>51.0</td>\n",
       "      <td>80.0</td>\n",
       "      <td>1.010</td>\n",
       "      <td>2.0</td>\n",
       "      <td>0.0</td>\n",
       "      <td>106.000000</td>\n",
       "      <td>26.0</td>\n",
       "      <td>1.4</td>\n",
       "      <td>137.528754</td>\n",
       "      <td>...</td>\n",
       "      <td>0.0</td>\n",
       "      <td>0.0</td>\n",
       "      <td>0.0</td>\n",
       "      <td>1.0</td>\n",
       "      <td>1.0</td>\n",
       "      <td>0.0</td>\n",
       "      <td>0.0</td>\n",
       "      <td>0.0</td>\n",
       "      <td>0.0</td>\n",
       "      <td>0.0</td>\n",
       "    </tr>\n",
       "  </tbody>\n",
       "</table>\n",
       "<p>5 rows × 26 columns</p>\n",
       "</div>"
      ],
      "text/plain": [
       "   id   age    bp     sg   al   su         bgr    bu   sc         sod  ...    \\\n",
       "0   1  48.0  80.0  1.020  1.0  0.0  121.000000  36.0  1.2  137.528754  ...     \n",
       "1   2   7.0  50.0  1.020  4.0  0.0  148.036517  18.0  0.8  137.528754  ...     \n",
       "2   3  62.0  80.0  1.010  2.0  3.0  423.000000  53.0  1.8  137.528754  ...     \n",
       "3   4  48.0  70.0  1.005  4.0  0.0  117.000000  56.0  3.8  111.000000  ...     \n",
       "4   5  51.0  80.0  1.010  2.0  0.0  106.000000  26.0  1.4  137.528754  ...     \n",
       "\n",
       "    pc  pcc   ba  htn   dm  cad  appet   pe  ane  class  \n",
       "0  0.0  0.0  0.0  0.0  0.0  0.0    0.0  0.0  0.0    0.0  \n",
       "1  0.0  0.0  0.0  1.0  1.0  0.0    0.0  0.0  0.0    0.0  \n",
       "2  0.0  0.0  0.0  1.0  0.0  0.0    1.0  0.0  1.0    0.0  \n",
       "3  1.0  1.0  0.0  0.0  1.0  0.0    1.0  1.0  1.0    0.0  \n",
       "4  0.0  0.0  0.0  1.0  1.0  0.0    0.0  0.0  0.0    0.0  \n",
       "\n",
       "[5 rows x 26 columns]"
      ]
     },
     "execution_count": 8,
     "metadata": {},
     "output_type": "execute_result"
    }
   ],
   "source": [
    "missing_handling_df = missing_handling(encoded_df, \"all\")\n",
    "print(missing_handling_df.shape)\n",
    "missing_handling_df.head()"
   ]
  },
  {
   "cell_type": "markdown",
   "metadata": {
    "collapsed": true
   },
   "source": [
    "## 4.3 Normalisasi"
   ]
  },
  {
   "cell_type": "markdown",
   "metadata": {},
   "source": [
    ">Melakukan normalisasi data, agar range tiap atribut sama dan tidak ada yang dominan saat perhitungan\n",
    "\n",
    "$$Xnorm = \\frac{X - min(X)}{max(X)-min(X)}$$"
   ]
  },
  {
   "cell_type": "code",
   "execution_count": 9,
   "metadata": {
    "collapsed": true
   },
   "outputs": [],
   "source": [
    "from sklearn.preprocessing import MinMaxScaler"
   ]
  },
  {
   "cell_type": "code",
   "execution_count": 10,
   "metadata": {
    "collapsed": true
   },
   "outputs": [],
   "source": [
    "def normalizing(df, column=\"all\", f_range=(0,1)):\n",
    "    \"\"\"\n",
    "    paramters:\n",
    "    ----------\n",
    "    df: input tipe dataframe\n",
    "    column: menentukan kolom numerik mana yang akan dilakukan penanganan missing value\n",
    "    range: range normalisasi\n",
    "    \n",
    "    output:\n",
    "    ----------\n",
    "    mengembalikan dataframe dengan kolom yang sudah dinormalisasi\n",
    "    \"\"\"\n",
    "    \n",
    "    copy_df = df.copy()\n",
    "    scale = MinMaxScaler(feature_range=f_range)    \n",
    "    \n",
    "    if(column!=\"all\"):\n",
    "        normalization_array = scale.fit_transform(copy_df[[column]])\n",
    "        df_change = normalization_array.ravel()    \n",
    "        copy_df[column] = df_change\n",
    "        \n",
    "    elif(column==\"all\"):\n",
    "        all_col = [\"age\", \"bp\", \"sg\", \"al\", \"su\", \"bgr\", \"bu\", \"sc\", \"sod\", \"pot\", \"hemo\", \"pcv\", \"wbcc\", \"rbcc\", \"rbc\", \"pc\", \"pcc\", \"ba\", \"htn\", \"dm\", \"cad\", \"appet\", \"pe\", \"ane\"]\n",
    "        for col in all_col:\n",
    "            copy_df = normalizing(copy_df, col, f_range) #rekursif\n",
    "    return copy_df"
   ]
  },
  {
   "cell_type": "code",
   "execution_count": 11,
   "metadata": {
    "scrolled": false
   },
   "outputs": [
    {
     "name": "stdout",
     "output_type": "stream",
     "text": [
      "(400, 26)\n"
     ]
    },
    {
     "data": {
      "text/html": [
       "<div>\n",
       "<style>\n",
       "    .dataframe thead tr:only-child th {\n",
       "        text-align: right;\n",
       "    }\n",
       "\n",
       "    .dataframe thead th {\n",
       "        text-align: left;\n",
       "    }\n",
       "\n",
       "    .dataframe tbody tr th {\n",
       "        vertical-align: top;\n",
       "    }\n",
       "</style>\n",
       "<table border=\"1\" class=\"dataframe\">\n",
       "  <thead>\n",
       "    <tr style=\"text-align: right;\">\n",
       "      <th></th>\n",
       "      <th>id</th>\n",
       "      <th>age</th>\n",
       "      <th>bp</th>\n",
       "      <th>sg</th>\n",
       "      <th>al</th>\n",
       "      <th>su</th>\n",
       "      <th>bgr</th>\n",
       "      <th>bu</th>\n",
       "      <th>sc</th>\n",
       "      <th>sod</th>\n",
       "      <th>...</th>\n",
       "      <th>pc</th>\n",
       "      <th>pcc</th>\n",
       "      <th>ba</th>\n",
       "      <th>htn</th>\n",
       "      <th>dm</th>\n",
       "      <th>cad</th>\n",
       "      <th>appet</th>\n",
       "      <th>pe</th>\n",
       "      <th>ane</th>\n",
       "      <th>class</th>\n",
       "    </tr>\n",
       "  </thead>\n",
       "  <tbody>\n",
       "    <tr>\n",
       "      <th>0</th>\n",
       "      <td>1</td>\n",
       "      <td>0.522727</td>\n",
       "      <td>0.230769</td>\n",
       "      <td>0.75</td>\n",
       "      <td>0.2</td>\n",
       "      <td>0.0</td>\n",
       "      <td>0.211538</td>\n",
       "      <td>0.088575</td>\n",
       "      <td>0.010582</td>\n",
       "      <td>0.839298</td>\n",
       "      <td>...</td>\n",
       "      <td>0.0</td>\n",
       "      <td>0.0</td>\n",
       "      <td>0.0</td>\n",
       "      <td>0.0</td>\n",
       "      <td>0.0</td>\n",
       "      <td>0.0</td>\n",
       "      <td>0.0</td>\n",
       "      <td>0.0</td>\n",
       "      <td>0.0</td>\n",
       "      <td>0.0</td>\n",
       "    </tr>\n",
       "    <tr>\n",
       "      <th>1</th>\n",
       "      <td>2</td>\n",
       "      <td>0.056818</td>\n",
       "      <td>0.000000</td>\n",
       "      <td>0.75</td>\n",
       "      <td>0.8</td>\n",
       "      <td>0.0</td>\n",
       "      <td>0.269309</td>\n",
       "      <td>0.042362</td>\n",
       "      <td>0.005291</td>\n",
       "      <td>0.839298</td>\n",
       "      <td>...</td>\n",
       "      <td>0.0</td>\n",
       "      <td>0.0</td>\n",
       "      <td>0.0</td>\n",
       "      <td>1.0</td>\n",
       "      <td>1.0</td>\n",
       "      <td>0.0</td>\n",
       "      <td>0.0</td>\n",
       "      <td>0.0</td>\n",
       "      <td>0.0</td>\n",
       "      <td>0.0</td>\n",
       "    </tr>\n",
       "    <tr>\n",
       "      <th>2</th>\n",
       "      <td>3</td>\n",
       "      <td>0.681818</td>\n",
       "      <td>0.230769</td>\n",
       "      <td>0.25</td>\n",
       "      <td>0.4</td>\n",
       "      <td>0.6</td>\n",
       "      <td>0.856838</td>\n",
       "      <td>0.132221</td>\n",
       "      <td>0.018519</td>\n",
       "      <td>0.839298</td>\n",
       "      <td>...</td>\n",
       "      <td>0.0</td>\n",
       "      <td>0.0</td>\n",
       "      <td>0.0</td>\n",
       "      <td>1.0</td>\n",
       "      <td>0.0</td>\n",
       "      <td>0.0</td>\n",
       "      <td>1.0</td>\n",
       "      <td>0.0</td>\n",
       "      <td>1.0</td>\n",
       "      <td>0.0</td>\n",
       "    </tr>\n",
       "    <tr>\n",
       "      <th>3</th>\n",
       "      <td>4</td>\n",
       "      <td>0.522727</td>\n",
       "      <td>0.153846</td>\n",
       "      <td>0.00</td>\n",
       "      <td>0.8</td>\n",
       "      <td>0.0</td>\n",
       "      <td>0.202991</td>\n",
       "      <td>0.139923</td>\n",
       "      <td>0.044974</td>\n",
       "      <td>0.671924</td>\n",
       "      <td>...</td>\n",
       "      <td>1.0</td>\n",
       "      <td>1.0</td>\n",
       "      <td>0.0</td>\n",
       "      <td>0.0</td>\n",
       "      <td>1.0</td>\n",
       "      <td>0.0</td>\n",
       "      <td>1.0</td>\n",
       "      <td>1.0</td>\n",
       "      <td>1.0</td>\n",
       "      <td>0.0</td>\n",
       "    </tr>\n",
       "    <tr>\n",
       "      <th>4</th>\n",
       "      <td>5</td>\n",
       "      <td>0.556818</td>\n",
       "      <td>0.230769</td>\n",
       "      <td>0.25</td>\n",
       "      <td>0.4</td>\n",
       "      <td>0.0</td>\n",
       "      <td>0.179487</td>\n",
       "      <td>0.062901</td>\n",
       "      <td>0.013228</td>\n",
       "      <td>0.839298</td>\n",
       "      <td>...</td>\n",
       "      <td>0.0</td>\n",
       "      <td>0.0</td>\n",
       "      <td>0.0</td>\n",
       "      <td>1.0</td>\n",
       "      <td>1.0</td>\n",
       "      <td>0.0</td>\n",
       "      <td>0.0</td>\n",
       "      <td>0.0</td>\n",
       "      <td>0.0</td>\n",
       "      <td>0.0</td>\n",
       "    </tr>\n",
       "  </tbody>\n",
       "</table>\n",
       "<p>5 rows × 26 columns</p>\n",
       "</div>"
      ],
      "text/plain": [
       "   id       age        bp    sg   al   su       bgr        bu        sc  \\\n",
       "0   1  0.522727  0.230769  0.75  0.2  0.0  0.211538  0.088575  0.010582   \n",
       "1   2  0.056818  0.000000  0.75  0.8  0.0  0.269309  0.042362  0.005291   \n",
       "2   3  0.681818  0.230769  0.25  0.4  0.6  0.856838  0.132221  0.018519   \n",
       "3   4  0.522727  0.153846  0.00  0.8  0.0  0.202991  0.139923  0.044974   \n",
       "4   5  0.556818  0.230769  0.25  0.4  0.0  0.179487  0.062901  0.013228   \n",
       "\n",
       "        sod  ...     pc  pcc   ba  htn   dm  cad  appet   pe  ane  class  \n",
       "0  0.839298  ...    0.0  0.0  0.0  0.0  0.0  0.0    0.0  0.0  0.0    0.0  \n",
       "1  0.839298  ...    0.0  0.0  0.0  1.0  1.0  0.0    0.0  0.0  0.0    0.0  \n",
       "2  0.839298  ...    0.0  0.0  0.0  1.0  0.0  0.0    1.0  0.0  1.0    0.0  \n",
       "3  0.671924  ...    1.0  1.0  0.0  0.0  1.0  0.0    1.0  1.0  1.0    0.0  \n",
       "4  0.839298  ...    0.0  0.0  0.0  1.0  1.0  0.0    0.0  0.0  0.0    0.0  \n",
       "\n",
       "[5 rows x 26 columns]"
      ]
     },
     "execution_count": 11,
     "metadata": {},
     "output_type": "execute_result"
    }
   ],
   "source": [
    "normalized_df = normalizing(missing_handling_df, column=\"all\", f_range=(0,1))\n",
    "print(normalized_df.shape)\n",
    "normalized_df.head()"
   ]
  },
  {
   "cell_type": "raw",
   "metadata": {},
   "source": [
    "Simpan ke CSV"
   ]
  },
  {
   "cell_type": "code",
   "execution_count": 12,
   "metadata": {
    "collapsed": true
   },
   "outputs": [],
   "source": [
    "# path=r\"C:\\Users\\Ikhsan\\Desktop\"\n",
    "# import os\n",
    "# normalized_df.to_csv(os.path.join(path,r'preprocessing.csv'))"
   ]
  },
  {
   "cell_type": "markdown",
   "metadata": {},
   "source": [
    "# V. PENENTUAN TUGAS DATA MINING"
   ]
  },
  {
   "cell_type": "markdown",
   "metadata": {},
   "source": [
    ">Tugas Data Mining yang dilakukan adalah klasifikasi"
   ]
  },
  {
   "cell_type": "markdown",
   "metadata": {},
   "source": [
    "# VI. PENENTUAN ALGORITMA DAN METODE"
   ]
  },
  {
   "cell_type": "markdown",
   "metadata": {},
   "source": [
    "## 6.1 Klasifikasi dengan kNN"
   ]
  },
  {
   "cell_type": "raw",
   "metadata": {},
   "source": [
    ">Import Modul Buatan Dari EDx"
   ]
  },
  {
   "cell_type": "code",
   "execution_count": 13,
   "metadata": {
    "collapsed": true
   },
   "outputs": [],
   "source": [
    "import MyDir as my"
   ]
  },
  {
   "cell_type": "markdown",
   "metadata": {},
   "source": [
    "## 6.2 Feature Selection dengan Backward Elimination"
   ]
  },
  {
   "cell_type": "markdown",
   "metadata": {},
   "source": [
    "# VII. Implementasi Algoritma Data Mining"
   ]
  },
  {
   "cell_type": "markdown",
   "metadata": {},
   "source": [
    "## 7.1 Mencari Nilai k Terbaik pada kNN"
   ]
  },
  {
   "cell_type": "code",
   "execution_count": 14,
   "metadata": {
    "collapsed": true
   },
   "outputs": [],
   "source": [
    "from sklearn.model_selection import KFold\n",
    "def knn_kfold(df, kNN = 5, k_fold=10, shuffle_=True, arr_akurasi=0):\n",
    "    \"\"\"\n",
    "    Parameter:\n",
    "    ----------\n",
    "    df : Dataframe, data bertipe float / integer, tidak boleh ada NaN\n",
    "    kNN : Nilai k-tetangga/data terdekat, default = 5\n",
    "    k_fold : Jumlah fold / lipatan split training - test. Default = 5\n",
    "    shuffle_ : Bentuk shuffle split jika diperlukan. Default = True\n",
    "\n",
    "    Ouput:\n",
    "    -------\n",
    "    arr_akurasi : 1 untuk menghasilkan output array akurasi tiap fold, 0 untuk rata - rata akurasi. default = 0\n",
    "    \"\"\"\n",
    "    \n",
    "    kf = KFold(n_splits = k_fold, shuffle = shuffle_, random_state=2)\n",
    "    akurasi = []\n",
    "    for train_index, test_index in kf.split(df):\n",
    "        train_df = df.iloc[train_index]\n",
    "        x_train = np.array(train_df.iloc[:,1:-1])\n",
    "        y_train = np.array(train_df[\"class\"])\n",
    "        test_df = df.iloc[test_index]\n",
    "        x_test = np.array(test_df.iloc[:,1:-1])\n",
    "        y_test = np.array(test_df[\"class\"])\n",
    "    \n",
    "        my_predictions = np.array([my.knn_predict(p, x_train, y_train, k=kNN) for p in x_test])\n",
    "        akurasi_my_predictions = np.mean(my_predictions == y_test)*100\n",
    "        akurasi.append(akurasi_my_predictions)\n",
    "    if(arr_akurasi==1):\n",
    "        return akurasi\n",
    "    else:\n",
    "        return np.mean(akurasi)"
   ]
  },
  {
   "cell_type": "markdown",
   "metadata": {},
   "source": [
    ">Dikarenakan data target sudah terurut dari 0\"notckd\" terlebih dahulu kemudian 1\"ckd\", KFold dengan metode pengambilan data training dan data test secara random (shuffle=True) lebih baik, karena data training dan test terdistribusi lebih seimbang."
   ]
  },
  {
   "cell_type": "raw",
   "metadata": {},
   "source": [
    ">Mencari nilai k terbaik dari kNN"
   ]
  },
  {
   "cell_type": "code",
   "execution_count": 15,
   "metadata": {
    "collapsed": true,
    "scrolled": true
   },
   "outputs": [],
   "source": [
    "def find_best_knn(df, start=3, finish=16, step=2, graph=True):\n",
    "    akurasi = []\n",
    "    maks = 0\n",
    "    for i in range (start, finish, step):\n",
    "        akurasi_k = knn_kfold(df, kNN = i, k_fold=10, shuffle_=True, arr_akurasi=0)\n",
    "        akurasi.append([i, akurasi_k])\n",
    "        if(maks<akurasi_k):\n",
    "            maks =akurasi_k\n",
    "            k = i\n",
    "            print(k, maks)\n",
    "        if (graph==True):\n",
    "            x = [i[0] for i in akurasi]\n",
    "            y = [i[1] for i in akurasi]\n",
    "            plt.plot(x,y)\n",
    "            plt.title(\"Mencari k Terbaik kNN\")\n",
    "            plt.xlabel(\"k\")\n",
    "            plt.ylabel(\"akurasi\")\n",
    "            plt.grid()\n",
    "            plt.show\n",
    "    return akurasi"
   ]
  },
  {
   "cell_type": "code",
   "execution_count": 16,
   "metadata": {},
   "outputs": [
    {
     "name": "stdout",
     "output_type": "stream",
     "text": [
      "3 99.25\n"
     ]
    },
    {
     "data": {
      "text/plain": [
       "[[3, 99.25],\n",
       " [5, 99.0],\n",
       " [7, 98.25],\n",
       " [9, 98.0],\n",
       " [11, 97.75],\n",
       " [13, 97.75],\n",
       " [15, 97.75]]"
      ]
     },
     "execution_count": 16,
     "metadata": {},
     "output_type": "execute_result"
    }
   ],
   "source": [
    "k_knn = find_best_knn(normalized_df)\n",
    "k_knn"
   ]
  },
  {
   "cell_type": "markdown",
   "metadata": {
    "collapsed": true
   },
   "source": [
    "## 7.2 Backward Elimination"
   ]
  },
  {
   "cell_type": "code",
   "execution_count": 17,
   "metadata": {
    "collapsed": true
   },
   "outputs": [],
   "source": [
    "import statsmodels.formula.api as sm\n",
    "\n",
    "def backward_elimination(splitdf_x, splitdf_y, sl=0.05):\n",
    "    sl_ = sl\n",
    "    copy_df = splitdf_x.copy()\n",
    "    reg_ols = sm.OLS(endog=splitdf_y, exog=copy_df).fit()\n",
    "    pval = reg_ols.pvalues\n",
    "    maks_pval = max(pval)\n",
    "    \n",
    "    if(maks_pval >= sl_):\n",
    "        delete_col = pval[pval==maks_pval].index[0]\n",
    "        drp = [delete_col]\n",
    "        copy_df = copy_df.drop(drp, axis=1)\n",
    "        copy_df = backward_elimination(copy_df, splitdf_y, sl_)\n",
    "\n",
    "    else:\n",
    "        copy_df = pd.concat([copy_df, splitdf_y], axis=1)\n",
    "    return copy_df"
   ]
  },
  {
   "cell_type": "code",
   "execution_count": 18,
   "metadata": {},
   "outputs": [
    {
     "name": "stdout",
     "output_type": "stream",
     "text": [
      "(400, 24)\n"
     ]
    },
    {
     "data": {
      "text/html": [
       "<div>\n",
       "<style>\n",
       "    .dataframe thead tr:only-child th {\n",
       "        text-align: right;\n",
       "    }\n",
       "\n",
       "    .dataframe thead th {\n",
       "        text-align: left;\n",
       "    }\n",
       "\n",
       "    .dataframe tbody tr th {\n",
       "        vertical-align: top;\n",
       "    }\n",
       "</style>\n",
       "<table border=\"1\" class=\"dataframe\">\n",
       "  <thead>\n",
       "    <tr style=\"text-align: right;\">\n",
       "      <th></th>\n",
       "      <th>age</th>\n",
       "      <th>bp</th>\n",
       "      <th>sg</th>\n",
       "      <th>al</th>\n",
       "      <th>su</th>\n",
       "      <th>bgr</th>\n",
       "      <th>bu</th>\n",
       "      <th>sc</th>\n",
       "      <th>sod</th>\n",
       "      <th>pot</th>\n",
       "      <th>...</th>\n",
       "      <th>rbc</th>\n",
       "      <th>pc</th>\n",
       "      <th>pcc</th>\n",
       "      <th>ba</th>\n",
       "      <th>htn</th>\n",
       "      <th>dm</th>\n",
       "      <th>cad</th>\n",
       "      <th>appet</th>\n",
       "      <th>pe</th>\n",
       "      <th>ane</th>\n",
       "    </tr>\n",
       "  </thead>\n",
       "  <tbody>\n",
       "    <tr>\n",
       "      <th>0</th>\n",
       "      <td>0.522727</td>\n",
       "      <td>0.230769</td>\n",
       "      <td>0.75</td>\n",
       "      <td>0.2</td>\n",
       "      <td>0.0</td>\n",
       "      <td>0.211538</td>\n",
       "      <td>0.088575</td>\n",
       "      <td>0.010582</td>\n",
       "      <td>0.839298</td>\n",
       "      <td>0.047803</td>\n",
       "      <td>...</td>\n",
       "      <td>0.189516</td>\n",
       "      <td>0.0</td>\n",
       "      <td>0.0</td>\n",
       "      <td>0.0</td>\n",
       "      <td>0.0</td>\n",
       "      <td>0.0</td>\n",
       "      <td>0.0</td>\n",
       "      <td>0.0</td>\n",
       "      <td>0.0</td>\n",
       "      <td>0.0</td>\n",
       "    </tr>\n",
       "    <tr>\n",
       "      <th>1</th>\n",
       "      <td>0.056818</td>\n",
       "      <td>0.000000</td>\n",
       "      <td>0.75</td>\n",
       "      <td>0.8</td>\n",
       "      <td>0.0</td>\n",
       "      <td>0.269309</td>\n",
       "      <td>0.042362</td>\n",
       "      <td>0.005291</td>\n",
       "      <td>0.839298</td>\n",
       "      <td>0.047803</td>\n",
       "      <td>...</td>\n",
       "      <td>0.189516</td>\n",
       "      <td>0.0</td>\n",
       "      <td>0.0</td>\n",
       "      <td>0.0</td>\n",
       "      <td>1.0</td>\n",
       "      <td>1.0</td>\n",
       "      <td>0.0</td>\n",
       "      <td>0.0</td>\n",
       "      <td>0.0</td>\n",
       "      <td>0.0</td>\n",
       "    </tr>\n",
       "    <tr>\n",
       "      <th>2</th>\n",
       "      <td>0.681818</td>\n",
       "      <td>0.230769</td>\n",
       "      <td>0.25</td>\n",
       "      <td>0.4</td>\n",
       "      <td>0.6</td>\n",
       "      <td>0.856838</td>\n",
       "      <td>0.132221</td>\n",
       "      <td>0.018519</td>\n",
       "      <td>0.839298</td>\n",
       "      <td>0.047803</td>\n",
       "      <td>...</td>\n",
       "      <td>0.000000</td>\n",
       "      <td>0.0</td>\n",
       "      <td>0.0</td>\n",
       "      <td>0.0</td>\n",
       "      <td>1.0</td>\n",
       "      <td>0.0</td>\n",
       "      <td>0.0</td>\n",
       "      <td>1.0</td>\n",
       "      <td>0.0</td>\n",
       "      <td>1.0</td>\n",
       "    </tr>\n",
       "    <tr>\n",
       "      <th>3</th>\n",
       "      <td>0.522727</td>\n",
       "      <td>0.153846</td>\n",
       "      <td>0.00</td>\n",
       "      <td>0.8</td>\n",
       "      <td>0.0</td>\n",
       "      <td>0.202991</td>\n",
       "      <td>0.139923</td>\n",
       "      <td>0.044974</td>\n",
       "      <td>0.671924</td>\n",
       "      <td>0.000000</td>\n",
       "      <td>...</td>\n",
       "      <td>0.000000</td>\n",
       "      <td>1.0</td>\n",
       "      <td>1.0</td>\n",
       "      <td>0.0</td>\n",
       "      <td>0.0</td>\n",
       "      <td>1.0</td>\n",
       "      <td>0.0</td>\n",
       "      <td>1.0</td>\n",
       "      <td>1.0</td>\n",
       "      <td>1.0</td>\n",
       "    </tr>\n",
       "    <tr>\n",
       "      <th>4</th>\n",
       "      <td>0.556818</td>\n",
       "      <td>0.230769</td>\n",
       "      <td>0.25</td>\n",
       "      <td>0.4</td>\n",
       "      <td>0.0</td>\n",
       "      <td>0.179487</td>\n",
       "      <td>0.062901</td>\n",
       "      <td>0.013228</td>\n",
       "      <td>0.839298</td>\n",
       "      <td>0.047803</td>\n",
       "      <td>...</td>\n",
       "      <td>0.000000</td>\n",
       "      <td>0.0</td>\n",
       "      <td>0.0</td>\n",
       "      <td>0.0</td>\n",
       "      <td>1.0</td>\n",
       "      <td>1.0</td>\n",
       "      <td>0.0</td>\n",
       "      <td>0.0</td>\n",
       "      <td>0.0</td>\n",
       "      <td>0.0</td>\n",
       "    </tr>\n",
       "  </tbody>\n",
       "</table>\n",
       "<p>5 rows × 24 columns</p>\n",
       "</div>"
      ],
      "text/plain": [
       "        age        bp    sg   al   su       bgr        bu        sc       sod  \\\n",
       "0  0.522727  0.230769  0.75  0.2  0.0  0.211538  0.088575  0.010582  0.839298   \n",
       "1  0.056818  0.000000  0.75  0.8  0.0  0.269309  0.042362  0.005291  0.839298   \n",
       "2  0.681818  0.230769  0.25  0.4  0.6  0.856838  0.132221  0.018519  0.839298   \n",
       "3  0.522727  0.153846  0.00  0.8  0.0  0.202991  0.139923  0.044974  0.671924   \n",
       "4  0.556818  0.230769  0.25  0.4  0.0  0.179487  0.062901  0.013228  0.839298   \n",
       "\n",
       "        pot ...        rbc   pc  pcc   ba  htn   dm  cad  appet   pe  ane  \n",
       "0  0.047803 ...   0.189516  0.0  0.0  0.0  0.0  0.0  0.0    0.0  0.0  0.0  \n",
       "1  0.047803 ...   0.189516  0.0  0.0  0.0  1.0  1.0  0.0    0.0  0.0  0.0  \n",
       "2  0.047803 ...   0.000000  0.0  0.0  0.0  1.0  0.0  0.0    1.0  0.0  1.0  \n",
       "3  0.000000 ...   0.000000  1.0  1.0  0.0  0.0  1.0  0.0    1.0  1.0  1.0  \n",
       "4  0.047803 ...   0.000000  0.0  0.0  0.0  1.0  1.0  0.0    0.0  0.0  0.0  \n",
       "\n",
       "[5 rows x 24 columns]"
      ]
     },
     "execution_count": 18,
     "metadata": {},
     "output_type": "execute_result"
    }
   ],
   "source": [
    "x = normalized_df.iloc[:,1:-1]\n",
    "print(x.shape)\n",
    "x.head()"
   ]
  },
  {
   "cell_type": "code",
   "execution_count": 19,
   "metadata": {},
   "outputs": [
    {
     "name": "stdout",
     "output_type": "stream",
     "text": [
      "(400, 1)\n"
     ]
    },
    {
     "data": {
      "text/html": [
       "<div>\n",
       "<style>\n",
       "    .dataframe thead tr:only-child th {\n",
       "        text-align: right;\n",
       "    }\n",
       "\n",
       "    .dataframe thead th {\n",
       "        text-align: left;\n",
       "    }\n",
       "\n",
       "    .dataframe tbody tr th {\n",
       "        vertical-align: top;\n",
       "    }\n",
       "</style>\n",
       "<table border=\"1\" class=\"dataframe\">\n",
       "  <thead>\n",
       "    <tr style=\"text-align: right;\">\n",
       "      <th></th>\n",
       "      <th>class</th>\n",
       "    </tr>\n",
       "  </thead>\n",
       "  <tbody>\n",
       "    <tr>\n",
       "      <th>0</th>\n",
       "      <td>0.0</td>\n",
       "    </tr>\n",
       "    <tr>\n",
       "      <th>1</th>\n",
       "      <td>0.0</td>\n",
       "    </tr>\n",
       "    <tr>\n",
       "      <th>2</th>\n",
       "      <td>0.0</td>\n",
       "    </tr>\n",
       "    <tr>\n",
       "      <th>3</th>\n",
       "      <td>0.0</td>\n",
       "    </tr>\n",
       "    <tr>\n",
       "      <th>4</th>\n",
       "      <td>0.0</td>\n",
       "    </tr>\n",
       "  </tbody>\n",
       "</table>\n",
       "</div>"
      ],
      "text/plain": [
       "   class\n",
       "0    0.0\n",
       "1    0.0\n",
       "2    0.0\n",
       "3    0.0\n",
       "4    0.0"
      ]
     },
     "execution_count": 19,
     "metadata": {},
     "output_type": "execute_result"
    }
   ],
   "source": [
    "y = normalized_df.iloc[:,25:]\n",
    "print(y.shape)\n",
    "y.head()"
   ]
  },
  {
   "cell_type": "code",
   "execution_count": 28,
   "metadata": {},
   "outputs": [
    {
     "name": "stdout",
     "output_type": "stream",
     "text": [
      "(400, 11)\n"
     ]
    },
    {
     "data": {
      "text/html": [
       "<div>\n",
       "<style>\n",
       "    .dataframe thead tr:only-child th {\n",
       "        text-align: right;\n",
       "    }\n",
       "\n",
       "    .dataframe thead th {\n",
       "        text-align: left;\n",
       "    }\n",
       "\n",
       "    .dataframe tbody tr th {\n",
       "        vertical-align: top;\n",
       "    }\n",
       "</style>\n",
       "<table border=\"1\" class=\"dataframe\">\n",
       "  <thead>\n",
       "    <tr style=\"text-align: right;\">\n",
       "      <th></th>\n",
       "      <th>sg</th>\n",
       "      <th>al</th>\n",
       "      <th>bu</th>\n",
       "      <th>sc</th>\n",
       "      <th>sod</th>\n",
       "      <th>hemo</th>\n",
       "      <th>rbc</th>\n",
       "      <th>htn</th>\n",
       "      <th>dm</th>\n",
       "      <th>appet</th>\n",
       "      <th>class</th>\n",
       "    </tr>\n",
       "  </thead>\n",
       "  <tbody>\n",
       "    <tr>\n",
       "      <th>0</th>\n",
       "      <td>0.75</td>\n",
       "      <td>0.2</td>\n",
       "      <td>0.088575</td>\n",
       "      <td>0.010582</td>\n",
       "      <td>0.839298</td>\n",
       "      <td>0.836735</td>\n",
       "      <td>0.189516</td>\n",
       "      <td>0.0</td>\n",
       "      <td>0.0</td>\n",
       "      <td>0.0</td>\n",
       "      <td>0.0</td>\n",
       "    </tr>\n",
       "    <tr>\n",
       "      <th>1</th>\n",
       "      <td>0.75</td>\n",
       "      <td>0.8</td>\n",
       "      <td>0.042362</td>\n",
       "      <td>0.005291</td>\n",
       "      <td>0.839298</td>\n",
       "      <td>0.557823</td>\n",
       "      <td>0.189516</td>\n",
       "      <td>1.0</td>\n",
       "      <td>1.0</td>\n",
       "      <td>0.0</td>\n",
       "      <td>0.0</td>\n",
       "    </tr>\n",
       "    <tr>\n",
       "      <th>2</th>\n",
       "      <td>0.25</td>\n",
       "      <td>0.4</td>\n",
       "      <td>0.132221</td>\n",
       "      <td>0.018519</td>\n",
       "      <td>0.839298</td>\n",
       "      <td>0.442177</td>\n",
       "      <td>0.000000</td>\n",
       "      <td>1.0</td>\n",
       "      <td>0.0</td>\n",
       "      <td>1.0</td>\n",
       "      <td>0.0</td>\n",
       "    </tr>\n",
       "    <tr>\n",
       "      <th>3</th>\n",
       "      <td>0.00</td>\n",
       "      <td>0.8</td>\n",
       "      <td>0.139923</td>\n",
       "      <td>0.044974</td>\n",
       "      <td>0.671924</td>\n",
       "      <td>0.551020</td>\n",
       "      <td>0.000000</td>\n",
       "      <td>0.0</td>\n",
       "      <td>1.0</td>\n",
       "      <td>1.0</td>\n",
       "      <td>0.0</td>\n",
       "    </tr>\n",
       "    <tr>\n",
       "      <th>4</th>\n",
       "      <td>0.25</td>\n",
       "      <td>0.4</td>\n",
       "      <td>0.062901</td>\n",
       "      <td>0.013228</td>\n",
       "      <td>0.839298</td>\n",
       "      <td>0.578231</td>\n",
       "      <td>0.000000</td>\n",
       "      <td>1.0</td>\n",
       "      <td>1.0</td>\n",
       "      <td>0.0</td>\n",
       "      <td>0.0</td>\n",
       "    </tr>\n",
       "  </tbody>\n",
       "</table>\n",
       "</div>"
      ],
      "text/plain": [
       "     sg   al        bu        sc       sod      hemo       rbc  htn   dm  \\\n",
       "0  0.75  0.2  0.088575  0.010582  0.839298  0.836735  0.189516  0.0  0.0   \n",
       "1  0.75  0.8  0.042362  0.005291  0.839298  0.557823  0.189516  1.0  1.0   \n",
       "2  0.25  0.4  0.132221  0.018519  0.839298  0.442177  0.000000  1.0  0.0   \n",
       "3  0.00  0.8  0.139923  0.044974  0.671924  0.551020  0.000000  0.0  1.0   \n",
       "4  0.25  0.4  0.062901  0.013228  0.839298  0.578231  0.000000  1.0  1.0   \n",
       "\n",
       "   appet  class  \n",
       "0    0.0    0.0  \n",
       "1    0.0    0.0  \n",
       "2    1.0    0.0  \n",
       "3    1.0    0.0  \n",
       "4    0.0    0.0  "
      ]
     },
     "execution_count": 28,
     "metadata": {},
     "output_type": "execute_result"
    }
   ],
   "source": [
    "backwarded_df = backward_elimination(x,y,0.05)\n",
    "print(backwarded_df.shape)\n",
    "backwarded_df.head()"
   ]
  },
  {
   "cell_type": "code",
   "execution_count": 29,
   "metadata": {},
   "outputs": [
    {
     "name": "stdout",
     "output_type": "stream",
     "text": [
      "(400, 11)\n",
      "3 99.25\n"
     ]
    },
    {
     "data": {
      "text/plain": [
       "[[3, 99.25],\n",
       " [5, 99.25],\n",
       " [7, 99.0],\n",
       " [9, 99.0],\n",
       " [11, 99.0],\n",
       " [13, 99.0],\n",
       " [15, 99.0]]"
      ]
     },
     "execution_count": 29,
     "metadata": {},
     "output_type": "execute_result"
    }
   ],
   "source": [
    "print(backwarded_df.shape)\n",
    "backwarded_k_knn = find_best_knn(backwarded_df)\n",
    "backwarded_k_knn"
   ]
  },
  {
   "cell_type": "code",
   "execution_count": 31,
   "metadata": {},
   "outputs": [
    {
     "data": {
      "text/plain": [
       "[100.0, 97.5, 97.5, 100.0, 97.5, 100.0, 100.0, 100.0, 100.0, 100.0]"
      ]
     },
     "execution_count": 31,
     "metadata": {},
     "output_type": "execute_result"
    }
   ],
   "source": [
    "backwarded_knn = knn_kfold(backwarded_df, kNN = 5, k_fold=10, shuffle_=True, arr_akurasi=1)\n",
    "backwarded_knn"
   ]
  },
  {
   "cell_type": "code",
   "execution_count": null,
   "metadata": {
    "collapsed": true
   },
   "outputs": [],
   "source": []
  }
 ],
 "metadata": {
  "kernelspec": {
   "display_name": "Python 3",
   "language": "python",
   "name": "python3"
  },
  "language_info": {
   "codemirror_mode": {
    "name": "ipython",
    "version": 3
   },
   "file_extension": ".py",
   "mimetype": "text/x-python",
   "name": "python",
   "nbconvert_exporter": "python",
   "pygments_lexer": "ipython3",
   "version": "3.6.3"
  }
 },
 "nbformat": 4,
 "nbformat_minor": 2
}
