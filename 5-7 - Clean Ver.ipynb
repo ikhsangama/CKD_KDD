{
 "cells": [
  {
   "cell_type": "raw",
   "metadata": {},
   "source": [
    ">Import Library"
   ]
  },
  {
   "cell_type": "code",
   "execution_count": 1,
   "metadata": {},
   "outputs": [],
   "source": [
    "import numpy as np\n",
    "import pandas as pd\n",
    "# import pymysql as pskl #Tahap preprocessing\n",
    "import matplotlib.pyplot as plt\n",
    "\n",
    "# Menampilkan semua array\n",
    "# np.set_printoptions(threshold=np.nan)"
   ]
  },
  {
   "cell_type": "code",
   "execution_count": 2,
   "metadata": {},
   "outputs": [
    {
     "data": {
      "text/html": [
       "<div>\n",
       "<style scoped>\n",
       "    .dataframe tbody tr th:only-of-type {\n",
       "        vertical-align: middle;\n",
       "    }\n",
       "\n",
       "    .dataframe tbody tr th {\n",
       "        vertical-align: top;\n",
       "    }\n",
       "\n",
       "    .dataframe thead th {\n",
       "        text-align: right;\n",
       "    }\n",
       "</style>\n",
       "<table border=\"1\" class=\"dataframe\">\n",
       "  <thead>\n",
       "    <tr style=\"text-align: right;\">\n",
       "      <th></th>\n",
       "      <th>id</th>\n",
       "      <th>age</th>\n",
       "      <th>bp</th>\n",
       "      <th>sg</th>\n",
       "      <th>al</th>\n",
       "      <th>su</th>\n",
       "      <th>bgr</th>\n",
       "      <th>bu</th>\n",
       "      <th>sc</th>\n",
       "      <th>sod</th>\n",
       "      <th>...</th>\n",
       "      <th>pc</th>\n",
       "      <th>pcc</th>\n",
       "      <th>ba</th>\n",
       "      <th>htn</th>\n",
       "      <th>dm</th>\n",
       "      <th>cad</th>\n",
       "      <th>appet</th>\n",
       "      <th>pe</th>\n",
       "      <th>ane</th>\n",
       "      <th>class</th>\n",
       "    </tr>\n",
       "  </thead>\n",
       "  <tbody>\n",
       "    <tr>\n",
       "      <th>0</th>\n",
       "      <td>1</td>\n",
       "      <td>0.468354</td>\n",
       "      <td>0.666667</td>\n",
       "      <td>0.750000</td>\n",
       "      <td>0.250000</td>\n",
       "      <td>0.0</td>\n",
       "      <td>0.286517</td>\n",
       "      <td>0.250000</td>\n",
       "      <td>0.166667</td>\n",
       "      <td>0.620198</td>\n",
       "      <td>...</td>\n",
       "      <td>0.000000</td>\n",
       "      <td>0.0</td>\n",
       "      <td>0.0</td>\n",
       "      <td>0.0</td>\n",
       "      <td>0.0</td>\n",
       "      <td>0.0</td>\n",
       "      <td>0.0</td>\n",
       "      <td>0.0</td>\n",
       "      <td>0.0</td>\n",
       "      <td>0.0</td>\n",
       "    </tr>\n",
       "    <tr>\n",
       "      <th>1</th>\n",
       "      <td>5</td>\n",
       "      <td>0.506329</td>\n",
       "      <td>0.666667</td>\n",
       "      <td>0.250000</td>\n",
       "      <td>0.500000</td>\n",
       "      <td>0.0</td>\n",
       "      <td>0.202247</td>\n",
       "      <td>0.153846</td>\n",
       "      <td>0.208333</td>\n",
       "      <td>0.620198</td>\n",
       "      <td>...</td>\n",
       "      <td>0.000000</td>\n",
       "      <td>0.0</td>\n",
       "      <td>0.0</td>\n",
       "      <td>1.0</td>\n",
       "      <td>1.0</td>\n",
       "      <td>0.0</td>\n",
       "      <td>0.0</td>\n",
       "      <td>0.0</td>\n",
       "      <td>0.0</td>\n",
       "      <td>0.0</td>\n",
       "    </tr>\n",
       "    <tr>\n",
       "      <th>2</th>\n",
       "      <td>6</td>\n",
       "      <td>0.620253</td>\n",
       "      <td>1.000000</td>\n",
       "      <td>0.500000</td>\n",
       "      <td>0.750000</td>\n",
       "      <td>0.0</td>\n",
       "      <td>0.022472</td>\n",
       "      <td>0.144231</td>\n",
       "      <td>0.145833</td>\n",
       "      <td>0.680000</td>\n",
       "      <td>...</td>\n",
       "      <td>0.100917</td>\n",
       "      <td>0.0</td>\n",
       "      <td>0.0</td>\n",
       "      <td>0.0</td>\n",
       "      <td>0.0</td>\n",
       "      <td>0.0</td>\n",
       "      <td>0.0</td>\n",
       "      <td>1.0</td>\n",
       "      <td>0.0</td>\n",
       "      <td>0.0</td>\n",
       "    </tr>\n",
       "    <tr>\n",
       "      <th>3</th>\n",
       "      <td>14</td>\n",
       "      <td>0.721519</td>\n",
       "      <td>0.333333</td>\n",
       "      <td>0.721616</td>\n",
       "      <td>0.114629</td>\n",
       "      <td>0.0</td>\n",
       "      <td>0.157303</td>\n",
       "      <td>0.730769</td>\n",
       "      <td>0.875000</td>\n",
       "      <td>0.400000</td>\n",
       "      <td>...</td>\n",
       "      <td>0.100917</td>\n",
       "      <td>0.0</td>\n",
       "      <td>0.0</td>\n",
       "      <td>0.0</td>\n",
       "      <td>0.0</td>\n",
       "      <td>1.0</td>\n",
       "      <td>1.0</td>\n",
       "      <td>1.0</td>\n",
       "      <td>0.0</td>\n",
       "      <td>0.0</td>\n",
       "    </tr>\n",
       "    <tr>\n",
       "      <th>4</th>\n",
       "      <td>17</td>\n",
       "      <td>0.455696</td>\n",
       "      <td>0.333333</td>\n",
       "      <td>0.500000</td>\n",
       "      <td>0.500000</td>\n",
       "      <td>0.0</td>\n",
       "      <td>0.162921</td>\n",
       "      <td>0.346154</td>\n",
       "      <td>0.375000</td>\n",
       "      <td>0.520000</td>\n",
       "      <td>...</td>\n",
       "      <td>0.000000</td>\n",
       "      <td>0.0</td>\n",
       "      <td>0.0</td>\n",
       "      <td>1.0</td>\n",
       "      <td>1.0</td>\n",
       "      <td>0.0</td>\n",
       "      <td>0.0</td>\n",
       "      <td>0.0</td>\n",
       "      <td>0.0</td>\n",
       "      <td>0.0</td>\n",
       "    </tr>\n",
       "  </tbody>\n",
       "</table>\n",
       "<p>5 rows × 26 columns</p>\n",
       "</div>"
      ],
      "text/plain": [
       "   id       age        bp        sg        al   su       bgr        bu  \\\n",
       "0   1  0.468354  0.666667  0.750000  0.250000  0.0  0.286517  0.250000   \n",
       "1   5  0.506329  0.666667  0.250000  0.500000  0.0  0.202247  0.153846   \n",
       "2   6  0.620253  1.000000  0.500000  0.750000  0.0  0.022472  0.144231   \n",
       "3  14  0.721519  0.333333  0.721616  0.114629  0.0  0.157303  0.730769   \n",
       "4  17  0.455696  0.333333  0.500000  0.500000  0.0  0.162921  0.346154   \n",
       "\n",
       "         sc       sod  ...          pc  pcc   ba  htn   dm  cad  appet   pe  \\\n",
       "0  0.166667  0.620198  ...    0.000000  0.0  0.0  0.0  0.0  0.0    0.0  0.0   \n",
       "1  0.208333  0.620198  ...    0.000000  0.0  0.0  1.0  1.0  0.0    0.0  0.0   \n",
       "2  0.145833  0.680000  ...    0.100917  0.0  0.0  0.0  0.0  0.0    0.0  1.0   \n",
       "3  0.875000  0.400000  ...    0.100917  0.0  0.0  0.0  0.0  1.0    1.0  1.0   \n",
       "4  0.375000  0.520000  ...    0.000000  0.0  0.0  1.0  1.0  0.0    0.0  0.0   \n",
       "\n",
       "   ane  class  \n",
       "0  0.0    0.0  \n",
       "1  0.0    0.0  \n",
       "2  0.0    0.0  \n",
       "3  0.0    0.0  \n",
       "4  0.0    0.0  \n",
       "\n",
       "[5 rows x 26 columns]"
      ]
     },
     "execution_count": 2,
     "metadata": {},
     "output_type": "execute_result"
    }
   ],
   "source": [
    "normalized_df = pd.read_csv(\"preprocessing.csv\")\n",
    "normalized_df = normalized_df.iloc[:,1:]\n",
    "normalized_df.head()"
   ]
  },
  {
   "cell_type": "markdown",
   "metadata": {},
   "source": [
    "# V. PENENTUAN TUGAS DATA MINING"
   ]
  },
  {
   "cell_type": "markdown",
   "metadata": {},
   "source": [
    ">Tugas Data Mining yang dilakukan adalah klasifikasi"
   ]
  },
  {
   "cell_type": "markdown",
   "metadata": {},
   "source": [
    "# VI. IMPLEMENTASI ALGORITMA DAN METODE"
   ]
  },
  {
   "cell_type": "markdown",
   "metadata": {},
   "source": [
    "## 6.1 Klasifikasi"
   ]
  },
  {
   "cell_type": "markdown",
   "metadata": {},
   "source": [
    ">Klasifikasi dengan algoritma kNN"
   ]
  },
  {
   "cell_type": "markdown",
   "metadata": {},
   "source": [
    "## 6.2 Seleksi Atribut"
   ]
  },
  {
   "cell_type": "markdown",
   "metadata": {},
   "source": [
    ">Seleksi atribut dengan Backward Elimination"
   ]
  },
  {
   "cell_type": "markdown",
   "metadata": {},
   "source": [
    "# VI. Penentuan Algoritma dan Metode"
   ]
  },
  {
   "cell_type": "markdown",
   "metadata": {},
   "source": [
    "## 6.1 Klasifikasi dengan kNN"
   ]
  },
  {
   "cell_type": "raw",
   "metadata": {},
   "source": [
    ">Import Modul Buatan Dari EDx"
   ]
  },
  {
   "cell_type": "code",
   "execution_count": 3,
   "metadata": {},
   "outputs": [],
   "source": [
    "import MyDir as my"
   ]
  },
  {
   "cell_type": "markdown",
   "metadata": {},
   "source": [
    "## 6.2 Feature Selection dengan Backward Elimination"
   ]
  },
  {
   "cell_type": "markdown",
   "metadata": {},
   "source": [
    "# VII. Implementasi Algoritma Data Mining"
   ]
  },
  {
   "cell_type": "markdown",
   "metadata": {},
   "source": [
    "## 7.1 Mencari Nilai k Terbaik pada kNN"
   ]
  },
  {
   "cell_type": "code",
   "execution_count": 4,
   "metadata": {},
   "outputs": [],
   "source": [
    "from sklearn.model_selection import KFold"
   ]
  },
  {
   "cell_type": "code",
   "execution_count": 83,
   "metadata": {},
   "outputs": [],
   "source": [
    "def knn_kfold(df, kNN = 5, k_fold=10, shuffle_=False, arr_akurasi=0):\n",
    "    \"\"\"\n",
    "    Parameter:\n",
    "    ----------\n",
    "    df : Dataframe, data bertipe float / integer, tidak boleh ada NaN\n",
    "    kNN : Nilai k-tetangga/data terdekat, default = 5\n",
    "    k_fold : Jumlah fold / lipatan split training - test. Default = 5\n",
    "    shuffle_ : Bentuk shuffle split jika diperlukan. Default = False\n",
    "\n",
    "    Ouput:\n",
    "    -------\n",
    "    arr_akurasi : 1 untuk menghasilkan output array akurasi tiap fold, 0 untuk rata - rata akurasi. default = 0\n",
    "    \"\"\"\n",
    "    \n",
    "    kf = KFold(n_splits = k_fold, shuffle = shuffle_, random_state=2)\n",
    "    akurasi = []\n",
    "    for train_index, test_index in kf.split(normalized_df):\n",
    "        train_df = normalized_df.iloc[train_index]\n",
    "        x_train = np.array(train_df.iloc[:,1:-1])\n",
    "        y_train = np.array(train_df[\"class\"])\n",
    "        test_df = normalized_df.iloc[test_index]\n",
    "        x_test = np.array(test_df.iloc[:,1:-1])\n",
    "        y_test = np.array(test_df[\"class\"])\n",
    "    \n",
    "        my_predictions = np.array([my.knn_predict(p, x_train, y_train, k=kNN) for p in x_test])\n",
    "        akurasi_my_predictions = np.mean(my_predictions == y_test)*100\n",
    "        akurasi.append(akurasi_my_predictions)\n",
    "    if(arr_akurasi==1):\n",
    "        return akurasi\n",
    "    else:\n",
    "        return np.mean(akurasi)"
   ]
  },
  {
   "cell_type": "code",
   "execution_count": 84,
   "metadata": {},
   "outputs": [
    {
     "data": {
      "text/plain": [
       "array([0., 0., 0., 0., 0., 0., 0., 0., 0., 0., 0., 0., 0., 0., 0., 0., 0.,\n",
       "       0., 0., 0., 0., 0., 0., 0., 0., 0., 0., 0., 0., 0., 0., 0., 0., 0.,\n",
       "       0., 0., 0., 0., 0., 0., 0., 0., 0., 0., 0., 0., 0., 0., 0., 0., 0.,\n",
       "       0., 0., 0., 0., 0., 0., 0., 0., 0., 0., 0., 0., 0., 0., 0., 0., 0.,\n",
       "       0., 0., 0., 0., 0., 0., 0., 0., 0., 0., 0., 0., 0., 0., 0., 0., 0.,\n",
       "       0., 0., 0., 0., 0., 0., 0., 0., 0., 0., 0., 0., 0., 0., 0., 0., 1.,\n",
       "       1., 1., 1., 1., 1., 1., 1., 1., 1., 1., 1., 1., 1., 1., 1., 1., 1.,\n",
       "       1., 1., 1., 1., 1., 1., 1., 1., 1., 1., 1., 1., 1., 1., 1., 1., 1.,\n",
       "       1., 1., 1., 1., 1., 1., 1., 1., 1., 1., 1., 1., 1., 1., 1., 1., 1.,\n",
       "       1., 1., 1., 1., 1., 1., 1., 1., 1., 1., 1., 1., 1., 1., 1., 1., 1.,\n",
       "       1., 1., 1., 1., 1., 1., 1., 1., 1., 1., 1., 1., 1., 1., 1., 1., 1.,\n",
       "       1., 1., 1., 1., 1., 1., 1., 1., 1., 1., 1., 1., 1., 1., 1., 1., 1.,\n",
       "       1., 1., 1., 1., 1., 1., 1., 1., 1., 1., 1., 1., 1., 1., 1., 1., 1.,\n",
       "       1., 1., 1., 1., 1., 1., 1., 1., 1., 1., 1., 1., 1., 1., 1., 1., 1.,\n",
       "       1., 1., 1., 1., 1., 1., 1., 1., 1., 1., 1., 1., 1.])"
      ]
     },
     "execution_count": 84,
     "metadata": {},
     "output_type": "execute_result"
    }
   ],
   "source": [
    "normalized_df[\"class\"].values"
   ]
  },
  {
   "cell_type": "markdown",
   "metadata": {},
   "source": [
    ">Dikarenakan data target sudah terurut dari 0\"notckd\" terlebih dahulu kemudian 1\"ckd\", KFold dengan metode pengambilan data training dan data test secara random (shuffle=True) lebih baik, karena data training dan test terdistribusi lebih seimbang."
   ]
  },
  {
   "cell_type": "raw",
   "metadata": {},
   "source": [
    ">pembuktian metode shuffle lebih baik"
   ]
  },
  {
   "cell_type": "code",
   "execution_count": 85,
   "metadata": {},
   "outputs": [
    {
     "data": {
      "text/plain": [
       "96.01538461538462"
      ]
     },
     "execution_count": 85,
     "metadata": {},
     "output_type": "execute_result"
    }
   ],
   "source": [
    "akurasi_rand_False = knn_kfold(normalized_df, kNN = 5, k_fold=10, shuffle_=False, arr_akurasi=0)\n",
    "akurasi_rand_False"
   ]
  },
  {
   "cell_type": "code",
   "execution_count": 86,
   "metadata": {
    "scrolled": true
   },
   "outputs": [
    {
     "data": {
      "text/plain": [
       "97.23076923076924"
      ]
     },
     "execution_count": 86,
     "metadata": {},
     "output_type": "execute_result"
    }
   ],
   "source": [
    "akurasi_rand_True = knn_kfold(normalized_df, kNN = 5, k_fold=10, shuffle_=True, arr_akurasi=0)\n",
    "akurasi_rand_True"
   ]
  },
  {
   "cell_type": "raw",
   "metadata": {},
   "source": [
    ">Mencari nilai k terbaik dari kNN"
   ]
  },
  {
   "cell_type": "code",
   "execution_count": 87,
   "metadata": {
    "scrolled": true
   },
   "outputs": [
    {
     "name": "stdout",
     "output_type": "stream",
     "text": [
      "2 98.03076923076924\n"
     ]
    },
    {
     "data": {
      "text/plain": [
       "[[2, 98.03076923076924],\n",
       " [3, 97.63076923076923],\n",
       " [4, 97.23076923076924],\n",
       " [5, 97.23076923076924],\n",
       " [6, 96.83076923076923],\n",
       " [7, 96.83076923076923],\n",
       " [8, 96.43076923076924],\n",
       " [9, 96.43076923076924],\n",
       " [10, 96.03076923076924]]"
      ]
     },
     "execution_count": 87,
     "metadata": {},
     "output_type": "execute_result"
    }
   ],
   "source": [
    "akurasi = []\n",
    "maks = 0\n",
    "for i in range (2,11):\n",
    "    akurasi_k = knn_kfold(normalized_df, kNN = i, k_fold=10, shuffle_=True, arr_akurasi=0)\n",
    "    akurasi.append([i, akurasi_k])\n",
    "    if(maks<akurasi_k):\n",
    "        maks =akurasi_k\n",
    "        k = i\n",
    "        print(k, maks)\n",
    "akurasi"
   ]
  },
  {
   "cell_type": "code",
   "execution_count": 88,
   "metadata": {},
   "outputs": [
    {
     "data": {
      "text/plain": [
       "98.03076923076924"
      ]
     },
     "execution_count": 88,
     "metadata": {},
     "output_type": "execute_result"
    }
   ],
   "source": [
    "maks = np.max(akurasi)\n",
    "maks"
   ]
  },
  {
   "cell_type": "code",
   "execution_count": 89,
   "metadata": {},
   "outputs": [
    {
     "data": {
      "text/plain": [
       "<function matplotlib.pyplot.show(*args, **kw)>"
      ]
     },
     "execution_count": 89,
     "metadata": {},
     "output_type": "execute_result"
    },
    {
     "data": {
      "image/png": "[encoded data removed]",
      "text/plain": [
       "<Figure size 432x288 with 1 Axes>"
      ]
     },
     "metadata": {},
     "output_type": "display_data"
    }
   ],
   "source": [
    "x = [i[0] for i in akurasi]\n",
    "y = [i[1] for i in akurasi]\n",
    "plt.plot(x,y)\n",
    "plt.title(\"Mencari k Terbaik kNN\")\n",
    "plt.xlabel(\"k\")\n",
    "plt.ylabel(\"akurasi\")\n",
    "plt.grid()\n",
    "plt.show\n",
    "# plt.savefig(\"Mencari k Terbaik kNN\") #menyimpan grafik"
   ]
  },
  {
   "cell_type": "code",
   "execution_count": null,
   "metadata": {},
   "outputs": [],
   "source": []
  },
  {
   "cell_type": "code",
   "execution_count": null,
   "metadata": {},
   "outputs": [],
   "source": []
  }
 ],
 "metadata": {
  "kernelspec": {
   "display_name": "Python 3",
   "language": "python",
   "name": "python3"
  },
  "language_info": {
   "codemirror_mode": {
    "name": "ipython",
    "version": 3
   },
   "file_extension": ".py",
   "mimetype": "text/x-python",
   "name": "python",
   "nbconvert_exporter": "python",
   "pygments_lexer": "ipython3",
   "version": "3.6.5"
  }
 },
 "nbformat": 4,
 "nbformat_minor": 2
}
