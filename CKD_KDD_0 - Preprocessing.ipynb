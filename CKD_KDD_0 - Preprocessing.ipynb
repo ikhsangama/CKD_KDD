{
 "cells": [
  {
   "cell_type": "markdown",
   "metadata": {},
   "source": [
    "# I. PEMAHAMAN DOMAIN DAN TUJUAN"
   ]
  },
  {
   "cell_type": "markdown",
   "metadata": {},
   "source": [
    "## 1.1. Pemahaman Penyakit Ginjal Kronis"
   ]
  },
  {
   "cell_type": "markdown",
   "metadata": {},
   "source": [
    ">Penyakit Ginjal Kronis (PGK) adalah suatu proses patofisiologis dengan etiologi yang beragam, mengakibatkan penurunan fungsi ginjal yang progresif, penurunan fungsi ini bersifat kronis dan irreversible.\n",
    "\n",
    ">Data didapatkan dari UCI Machine Learning Repository. Berisikan 400 data dan memiliki 25 atribut, terdiri dari 1 kelas target dan 24 atribut. "
   ]
  },
  {
   "cell_type": "markdown",
   "metadata": {},
   "source": [
    "## 1.2. Tujuan"
   ]
  },
  {
   "cell_type": "markdown",
   "metadata": {},
   "source": [
    ">Identifikasi PGK dengan atribut yang paling berpengaruh"
   ]
  },
  {
   "cell_type": "markdown",
   "metadata": {},
   "source": [
    "# II. PEMBUATAN DATASET DAN TARGET"
   ]
  },
  {
   "cell_type": "markdown",
   "metadata": {},
   "source": [
    "## 2.1 Data UCI"
   ]
  },
  {
   "cell_type": "markdown",
   "metadata": {},
   "source": [
    "Data didapat dari: https://archive.ics.uci.edu/ml/datasets/chronic_kidney_disease\n",
    "\n",
    "Data tersebut di-import dalam mariaDB"
   ]
  },
  {
   "cell_type": "raw",
   "metadata": {},
   "source": [
    ">Import Library"
   ]
  },
  {
   "cell_type": "code",
   "execution_count": 1,
   "metadata": {},
   "outputs": [],
   "source": [
    "import numpy as np\n",
    "import pandas as pd\n",
    "import pymysql as pskl #mengambil database\n",
    "import matplotlib.pyplot as plt\n",
    "\n",
    "# Menampilkan semua array\n",
    "# np.set_printoptions(threshold=np.nan)"
   ]
  },
  {
   "cell_type": "raw",
   "metadata": {},
   "source": [
    ">Memanggil Dataset"
   ]
  },
  {
   "cell_type": "code",
   "execution_count": 2,
   "metadata": {},
   "outputs": [],
   "source": [
    "def dataset(retrieve=\"all\", id=0, target=1): #hasil bertipe dataframe\n",
    "    \"\"\"\n",
    "    parameters\n",
    "    ----------\n",
    "    retrieve: (all, numeric, polinom)\n",
    "        all    : semua kolom\n",
    "        numeric: hanya kolom numeric\n",
    "        polinom: hanya kolom polinom\n",
    "    id: (0, 1)\n",
    "        0: tanpa kolom id\n",
    "        1: dengan kolom id\n",
    "    class: (0, 1)\n",
    "        0: tanpa kolom class\n",
    "        1: dengan kolom class\n",
    "    \n",
    "    \"\"\"\n",
    "    connection = pskl.connect(host=\"localhost\", user=\"root\", passwd=\"\", database=\"knn\")\n",
    "    cursor = connection.cursor()\n",
    "    if(retrieve==\"all\"):\n",
    "        cols = [\"id\", \"age\", \"bp\", \"sg\", \"al\", \"su\", \"bgr\", \"bu\", \"sc\", \"sod\", \"pot\", \"hemo\", \"pcv\", \"wbcc\", \"rbcc\", \"rbc\", \"pc\", \"pcc\", \"ba\", \"htn\", \"dm\", \"cad\", \"appet\", \"pe\", \"ane\", \"class\"]\n",
    "        retrieve = \"SELECT id, age, bp, sg, al, su, bgr, bu, sc, sod, pot, hemo, pcv, wbcc, rbcc, rbc, pc, pcc, ba, htn, dm, cad, appet, pe, ane, class FROM ckd_preprocessing3\"\n",
    "    elif(retrieve==\"numeric\"):\n",
    "        cols = [\"id\", \"age\", \"bp\", \"sg\", \"al\", \"su\", \"bgr\", \"bu\", \"sc\", \"sod\", \"pot\", \"hemo\", \"pcv\", \"wbcc\", \"rbcc\", \"class\"]\n",
    "        retrieve = \"SELECT id, age, bp, sg, al, su, bgr, bu, sc, sod, pot, hemo, pcv, wbcc, rbcc, class FROM ckd_preprocessing3\"\n",
    "    elif(retrieve==\"polinom\"):\n",
    "        cols = [\"id\", \"rbc\", \"pc\", \"pcc\", \"ba\", \"htn\", \"dm\", \"cad\", \"appet\", \"pe\", \"ane\", \"class\"]\n",
    "        retrieve = \"SELECT id, rbc, pc, pcc, ba, htn, dm, cad, appet, pe, ane, class FROM ckd_preprocessing3\"\n",
    "    resolveall = cursor.execute(retrieve)\n",
    "    rows_tupple = cursor.fetchall()\n",
    "    data = pd.DataFrame(list(rows_tupple))\n",
    "    data.columns = cols\n",
    "    if(id==0):\n",
    "        data = data.drop([\"id\"], axis=1)\n",
    "    if(target==0):\n",
    "        data = data.drop([\"class\"], axis=1)\n",
    "    data = data.fillna(value=np.nan) #mengubah missing value menjadi NaN\n",
    "    return data"
   ]
  },
  {
   "cell_type": "markdown",
   "metadata": {},
   "source": [
    "## 2.2. Menentukan Atribut Target"
   ]
  },
  {
   "cell_type": "markdown",
   "metadata": {},
   "source": [
    ">Atribut \"class\" sebagai target dataset: \"ckd\" dan \"notckd\" "
   ]
  },
  {
   "cell_type": "markdown",
   "metadata": {},
   "source": [
    "# III. DATA CLEANING DAN PREPROCESSING"
   ]
  },
  {
   "cell_type": "markdown",
   "metadata": {},
   "source": [
    "## 3.1 Menghilangkan Outliers"
   ]
  },
  {
   "cell_type": "markdown",
   "metadata": {},
   "source": [
    ">referensi: http://digilib.unila.ac.id/20585/4/II.%20TINJAUAN%20PUSTAKA.pdf"
   ]
  },
  {
   "cell_type": "raw",
   "metadata": {},
   "source": [
    ">Mendapatkan data outliers"
   ]
  },
  {
   "cell_type": "code",
   "execution_count": 3,
   "metadata": {},
   "outputs": [],
   "source": [
    "def outliers(df, k1=0.25, k3=0.75):\n",
    "    \"\"\"\n",
    "    parameters:\n",
    "    -----------\n",
    "    df: input tipe dataframe, hanya menerima numeric\n",
    "    \n",
    "    mendeteksi data yang diluar batas bawah dan batas atas\n",
    "    batas bawah = k1 - (k3-k1)*1.5\n",
    "    batas atas = k3 + (k3-k1)*1.5\n",
    "    \"\"\"\n",
    "    pencilan = df.apply(lambda x: (x < df[x.name].quantile(k1)-((df[x.name].quantile(k3)-df[x.name].quantile(k1))*1.5))|(x > df[x.name].quantile(k3)+((df[x.name].quantile(k3)-df[x.name].quantile(k1))*1.5)), axis=0)\n",
    "    return pencilan"
   ]
  },
  {
   "cell_type": "raw",
   "metadata": {},
   "source": [
    ">Menghilangkan outliers"
   ]
  },
  {
   "cell_type": "code",
   "execution_count": 4,
   "metadata": {},
   "outputs": [],
   "source": [
    "def outliers_removing(df, pencilan):\n",
    "    \"\"\"\n",
    "    paramters:\n",
    "    ----------\n",
    "    df: input tipe dataframe\n",
    "    pencilan: input tipe dataframe, bertipe boolean\n",
    "    \n",
    "    output:\n",
    "    -------\n",
    "    mengembalikan dataframe yang sudah menghilangkan semua outliers (semua baris yang berisi nilai pencilan true)\n",
    "    \"\"\"\n",
    "    filtered_df = df[~(pencilan).any(axis=1)]\n",
    "    return filtered_df"
   ]
  },
  {
   "cell_type": "markdown",
   "metadata": {},
   "source": [
    "# IV. TRANSFORMASI DATA"
   ]
  },
  {
   "cell_type": "markdown",
   "metadata": {
    "collapsed": true
   },
   "source": [
    "## 4.1 Data Nominal Menjadi Numeric"
   ]
  },
  {
   "cell_type": "markdown",
   "metadata": {},
   "source": [
    ">Mengubah atribut / kolom polinom menjadi numerik\n",
    "\n",
    ">Dikarenakan semua kolom nominal hanya memiliki 2 kelas (binary), hasil transformasi menjadi 0 dan 1"
   ]
  },
  {
   "cell_type": "raw",
   "metadata": {},
   "source": [
    ">Transformasi Data"
   ]
  },
  {
   "cell_type": "code",
   "execution_count": 5,
   "metadata": {
    "scrolled": true
   },
   "outputs": [],
   "source": [
    "def encoding(df, column=\"all_nominal\"):\n",
    "    \"\"\"\n",
    "    paramters:\n",
    "    ----------\n",
    "    df: input tipe dataframe\n",
    "    column: input tipe string, menentukan kolom nominal mana yang akan di transformasi menjadi numerik\n",
    "    \n",
    "    output:\n",
    "    ----------\n",
    "    mengembalikan dataframe dengan kolom tertentu yang sudah di encode selain \"NaN\"\n",
    "    \n",
    "    \"\"\"\n",
    "    #python melakukan pass by reference, sehingga dibuat copy agar df sebelumnya tidak berubah\n",
    "    \n",
    "    copy_df = df.copy()\n",
    "    if(column!=\"all_nominal\"):\n",
    "        a = copy_df[column].unique().tolist()\n",
    "        c = [x for x in a if str(x) != 'nan']\n",
    "        l=[]\n",
    "        i=0\n",
    "        for x in c:\n",
    "            l.append(i)\n",
    "            i+=1\n",
    "        copy_df[column] = copy_df[column].replace(c, l)\n",
    "    \n",
    "    elif(column==\"all_nominal\"):\n",
    "        all_nominal = [\"rbc\", \"pc\", \"pcc\", \"ba\", \"htn\", \"dm\", \"cad\", \"appet\", \"pe\", \"ane\",\"class\"]\n",
    "        for col in all_nominal:\n",
    "            copy_df = encoding(copy_df, col) #rekursif\n",
    "            \n",
    "    return copy_df"
   ]
  },
  {
   "cell_type": "markdown",
   "metadata": {},
   "source": [
    "## 4.2 Penanganan Data yang Hilang"
   ]
  },
  {
   "cell_type": "markdown",
   "metadata": {},
   "source": [
    "Mengubah NaN menjadi strategi tertentu, dalam hal ini diubah menjadi rata - rata dari setiap kolom"
   ]
  },
  {
   "cell_type": "raw",
   "metadata": {},
   "source": [
    ">Import Library"
   ]
  },
  {
   "cell_type": "code",
   "execution_count": 6,
   "metadata": {},
   "outputs": [],
   "source": [
    "from sklearn.preprocessing import Imputer"
   ]
  },
  {
   "cell_type": "code",
   "execution_count": 7,
   "metadata": {},
   "outputs": [],
   "source": [
    "def missing_handling(df, column=\"all\", method=\"mean\"):\n",
    "    \"\"\"\n",
    "    paramters:\n",
    "    ----------\n",
    "    df: input tipe dataframe\n",
    "    column: menentukan kolom numerik mana yang akan dilakukan penanganan missing value\n",
    "    method: strategi penanganan missing value\n",
    "    \n",
    "    output:\n",
    "    ----------\n",
    "    mengembalikan dataframe dengan kolom yang sudah dilakukan penanganan NaN\n",
    "    \"\"\"\n",
    "    \n",
    "    copy_df = df\n",
    "    imputer = Imputer(missing_values=\"NaN\", strategy=method, axis = 0)    \n",
    "    \n",
    "    if(column!=\"all\"):\n",
    "        imputer = imputer.fit(copy_df[[column]])\n",
    "        filledmissing_df = imputer.transform(copy_df[[column]])\n",
    "        df_change = filledmissing_df.ravel()    \n",
    "        copy_df[column] = df_change\n",
    "        \n",
    "    elif(column==\"all\"):\n",
    "        all_col = [\"age\", \"bp\", \"sg\", \"al\", \"su\", \"bgr\", \"bu\", \"sc\", \"sod\", \"pot\", \"hemo\", \"pcv\", \"wbcc\", \"rbcc\", \"rbc\", \"pc\", \"pcc\", \"ba\", \"htn\", \"dm\", \"cad\", \"appet\", \"pe\", \"ane\", \"class\"]\n",
    "        for col in all_col:\n",
    "            copy_df = missing_handling(copy_df, col, method) #rekursif\n",
    "    return copy_df"
   ]
  },
  {
   "cell_type": "markdown",
   "metadata": {
    "collapsed": true
   },
   "source": [
    "## 4.3 Normalisasi"
   ]
  },
  {
   "cell_type": "markdown",
   "metadata": {},
   "source": [
    ">Melakukan normalisasi data, agar range tiap atribut sama dan tidak ada yang dominan saat perhitungan\n",
    "\n",
    "$$Xnorm = \\frac{X - min(X)}{max(X)-min(X)}$$"
   ]
  },
  {
   "cell_type": "code",
   "execution_count": 8,
   "metadata": {},
   "outputs": [],
   "source": [
    "from sklearn.preprocessing import MinMaxScaler"
   ]
  },
  {
   "cell_type": "code",
   "execution_count": 9,
   "metadata": {},
   "outputs": [],
   "source": [
    "def normalizing(df, column=\"all\", f_range=(0,1)):\n",
    "    \"\"\"\n",
    "    paramters:\n",
    "    ----------\n",
    "    df: input tipe dataframe\n",
    "    column: menentukan kolom numerik mana yang akan dilakukan penanganan missing value\n",
    "    range: range normalisasi\n",
    "    \n",
    "    output:\n",
    "    ----------\n",
    "    mengembalikan dataframe dengan kolom yang sudah dinormalisasi\n",
    "    \"\"\"\n",
    "    \n",
    "    copy_df = df.copy()\n",
    "    scale = MinMaxScaler(feature_range=f_range)    \n",
    "    \n",
    "    if(column!=\"all\"):\n",
    "        normalization_array = scale.fit_transform(copy_df[[column]])\n",
    "        df_change = normalization_array.ravel()    \n",
    "        copy_df[column] = df_change\n",
    "        \n",
    "    elif(column==\"all\"):\n",
    "        all_col = [\"age\", \"bp\", \"sg\", \"al\", \"su\", \"bgr\", \"bu\", \"sc\", \"sod\", \"pot\", \"hemo\", \"pcv\", \"wbcc\", \"rbcc\", \"rbc\", \"pc\", \"pcc\", \"ba\", \"htn\", \"dm\", \"cad\", \"appet\", \"pe\", \"ane\"]\n",
    "        for col in all_col:\n",
    "            copy_df = normalizing(copy_df, col, f_range) #rekursif\n",
    "    return copy_df"
   ]
  },
  {
   "cell_type": "raw",
   "metadata": {},
   "source": [
    "Simpan ke CSV"
   ]
  },
  {
   "cell_type": "code",
   "execution_count": 55,
   "metadata": {},
   "outputs": [],
   "source": [
    "path=r\"C:\\Users\\Ikhsan\\Desktop\"\n",
    "import os\n",
    "normalized_df.to_csv(os.path.join(path,r'preprocessing.csv'))"
   ]
  },
  {
   "cell_type": "markdown",
   "metadata": {},
   "source": [
    "# V. PENENTUAN TUGAS DATA MINING"
   ]
  },
  {
   "cell_type": "markdown",
   "metadata": {},
   "source": [
    ">Tugas Data Mining yang dilakukan adalah klasifikasi"
   ]
  },
  {
   "cell_type": "markdown",
   "metadata": {},
   "source": [
    "# VI. IMPLEMENTASI ALGORITMA DAN METODE"
   ]
  },
  {
   "cell_type": "markdown",
   "metadata": {},
   "source": [
    "## 6.1 Klasifikasi"
   ]
  },
  {
   "cell_type": "markdown",
   "metadata": {},
   "source": [
    ">Klasifikasi dengan algoritma kNN"
   ]
  },
  {
   "cell_type": "raw",
   "metadata": {},
   "source": [
    ">Import Modul Buatan Dari EDx"
   ]
  },
  {
   "cell_type": "code",
   "execution_count": 10,
   "metadata": {},
   "outputs": [],
   "source": [
    "import MyDir as my"
   ]
  },
  {
   "cell_type": "markdown",
   "metadata": {},
   "source": [
    "## 6.2 Seleksi Atribut"
   ]
  },
  {
   "cell_type": "markdown",
   "metadata": {},
   "source": [
    "Seleksi atribut dengan Backward Elimination"
   ]
  },
  {
   "cell_type": "markdown",
   "metadata": {},
   "source": [
    "# VI. Pengembangan Algoritma Data Mining"
   ]
  },
  {
   "cell_type": "raw",
   "metadata": {},
   "source": [
    ">Mencari nilai k terbaik dari kNN"
   ]
  },
  {
   "cell_type": "code",
   "execution_count": 11,
   "metadata": {},
   "outputs": [],
   "source": [
    "from sklearn.model_selection import train_test_split"
   ]
  },
  {
   "cell_type": "raw",
   "metadata": {},
   "source": [
    ">Koding"
   ]
  },
  {
   "cell_type": "code",
   "execution_count": 56,
   "metadata": {},
   "outputs": [
    {
     "data": {
      "text/plain": [
       "94.11764705882352"
      ]
     },
     "execution_count": 56,
     "metadata": {},
     "output_type": "execute_result"
    }
   ],
   "source": [
    "dataset_df = dataset()\n",
    "numeric_df = dataset(retrieve=\"numeric\", target=0)\n",
    "pencilan = outliers(numeric_df)\n",
    "filtered_df = outliers_removing(dataset_df, pencilan)\n",
    "encoded_df = encoding(filtered_df, \"all_nominal\")\n",
    "missing_handled_df = missing_handling(encoded_df, \"all\")\n",
    "normalized_df = normalizing(missing_handled_df, column=\"all\", f_range=(0,1))\n",
    "\n",
    "x = normalized_df.iloc[:,1:-1]\n",
    "y = normalized_df.iloc[:,-1]\n",
    "x_train, x_test, y_train, y_test = train_test_split(x, y, test_size=0.2)\n",
    "\n",
    "x_train = np.array(x_train)\n",
    "y_train = np.array(y_train)\n",
    "x_test = np.array(x_test)\n",
    "y_test = np.array(y_test)\n",
    "\n",
    "my_predictions = np.array([my.knn_predict(p, x_train, y_train, 5) for p in x_test])\n",
    "\n",
    "akurasi_my_predictions = np.mean(my_predictions == y_test)*100\n",
    "akurasi_my_predictions"
   ]
  },
  {
   "cell_type": "code",
   "execution_count": null,
   "metadata": {},
   "outputs": [],
   "source": []
  }
 ],
 "metadata": {
  "kernelspec": {
   "display_name": "Python 3",
   "language": "python",
   "name": "python3"
  },
  "language_info": {
   "codemirror_mode": {
    "name": "ipython",
    "version": 3
   },
   "file_extension": ".py",
   "mimetype": "text/x-python",
   "name": "python",
   "nbconvert_exporter": "python",
   "pygments_lexer": "ipython3",
   "version": "3.6.5"
  }
 },
 "nbformat": 4,
 "nbformat_minor": 2
}
